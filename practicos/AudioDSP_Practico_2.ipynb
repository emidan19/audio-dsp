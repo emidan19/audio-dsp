{
 "cells": [
  {
   "cell_type": "markdown",
   "metadata": {
    "id": "9R66vy-1Fn5C"
   },
   "source": [
    "\n",
    "### <center>Procesamiento Digital de Señales de Audio</center>\n",
    "#### <center>Instituto de Ingeniería Eléctrica - UdelaR</center>\n",
    "# Hoja de Ejercicios 2 - Curso 2022\n",
    "## Introducción al procesamiento de audio.\n",
    "### Filtros digitales en audio.\n",
    "\n",
    "## Pautas para el práctico\n",
    " - La realización del presente trabajo es individual.\n",
    " - Se espera la entrega de un PDF escrito en $\\LaTeX$ o similar. El mismo tendrá:\n",
    "     - Máximo de 12 páginas\n",
    "     - Máximo de 2500 palabras\n",
    " - También se espera la entrega del código escrito, en scripts Python o en este mismo Jupyter Notebook.\n",
    " - La corrección del práctico se hará sobre lo entregado en el PDF, pero podremos apoyarnos en el razonamiento y comprensión demostrado en el código escrito. Recomendamos escribir el código de forma prolija para facilitar la comprensión presente y futura tanto de nosotros como de ustedes mismxs.\n",
    "\n",
    "\n",
    "**Nombre de el/la estudiante:** "
   ]
  },
  {
   "cell_type": "markdown",
   "metadata": {},
   "source": [
    "### Como correr este notebook\n",
    "\n",
    "Es posible descargarlo y correrlo localmente en su computadora\n",
    "\n",
    "Tambien pueden correrlo en Google Colab usando el siguiente link.\n",
    "\n",
    "<table align=\"center\">\n",
    "  <td>\n",
    "    <a target=\"_blank\" href=\"https://colab.research.google.com/github/mrocamora/audio-dsp/blob/main/practicos/AudioDSP_Practico_2.ipynb\"><img src=\"https://www.tensorflow.org/images/colab_logo_32px.png\" />Correr en Google Colab</a>\n",
    "  </td>\n",
    "</table>"
   ]
  },
  {
   "cell_type": "code",
   "execution_count": 2,
   "metadata": {
    "colab": {
     "base_uri": "https://localhost:8080/"
    },
    "id": "MdUJ8uyXij2V",
    "outputId": "1c5412a9-358e-4f40-8660-8ccf67d64b40"
   },
   "outputs": [],
   "source": [
    "# Al correr esta celda, se podrá acceder a archivos\n",
    "# y carpetas en su cuenta de google drive.\n",
    "# Puede ver la estructura de carpetas apretando en\n",
    "# el icono de carpeta de la barra lateral izquierda.\n",
    "from google.colab import drive\n",
    "drive.mount('/content/drive')"
   ]
  },
  {
   "cell_type": "code",
   "execution_count": 1,
   "metadata": {
    "colab": {
     "base_uri": "https://localhost:8080/",
     "height": 61
    },
    "id": "E1Yd4l1_GJR4",
    "outputId": "464ab4b6-c236-4f29-b870-cbc4017e3b63"
   },
   "outputs": [],
   "source": [
    "import numpy as np\n",
    "import matplotlib.pyplot as plt\n",
    "from scipy import io, signal\n",
    "from scipy.io.wavfile import read\n",
    "from IPython.display import Audio"
   ]
  },
  {
   "cell_type": "markdown",
   "metadata": {},
   "source": [
    "# Ejercicio 1\n",
    "\n",
    "Al analizar una grabación de música con técnicas de procesamiento digital de señales, resulta de utilidad obtener una representación intermedia de la señal de audio que preserve sus principales propiedades rítmicas. Para generar tal representación, en [1] se propone descomponer la señal en bandas de frecuencia con un banco de filtros y calcular la envolvente de amplitud de la salida de cada filtro. Como forma de mostrar la validez de la propuesta, en [1] se plantea un experimento en el que al filtrar ruido blanco con el mismo banco de filtros, modular la salida de los filtros con las envolventes de amplitud previamente calculadas y sumar las señales de todas las bandas, se puede construir una nueva señal de audio que preserva las características rítmicas de la señal original.\n",
    "\n",
    "## Parte 1\n",
    "\n",
    "\n",
    "En la Figura 1 se muestra un diagrama de bloques del proceso, el cual se implementará en este ejercicio. Los pasos a seguir son los siguientes:  \n",
    "\n",
    "---\n",
    "\n",
    "<img src=\"./figures/diagrama.svg\" alt=\"FIG 1\" style=\"width: 600px;\">\n",
    "\n",
    "`FIG 1: Diagrama de bloques del procesamiento. Los filtros $H_1$ ... $H_n$ conforman el banco de filtros.`\n",
    "\n",
    "---\n",
    "\n",
    "Los pasos son los siguientes:\n",
    "\n",
    "1. Implementar un banco de filtros Butterworth según la siguiente tabla. Se sugiere usar *scipy.signal.butter* y puede resultar útil consultar https://scipy-cookbook.readthedocs.io/items/ButterworthBandpass.html\n",
    "\n",
    "\n",
    "| Banda | $f_{low}$(Hz) | $f_{high}$(Hz) | tipo |\n",
    "| :- | :---- | :---- | :--------------------- |\n",
    "| 1 | - | 127 | pasa-bajo |\n",
    "| 2 | 127 | 254 | pasa-banda |\n",
    "| 3 | 254 | 508 | pasa-banda |\n",
    "| 4 | 508 | 1016 | pasa-banda |\n",
    "| 5 | 1016 | 2032 | pasa-banda |\n",
    "| 6 | 2032 | - | pasa-alto |\n",
    "\n",
    "\n",
    "2. Filtrar la señal de audio provista (*superstition.wav*) con el banco de filtros y graficar forma de onda y espectrograma de las señales resultantes.  \n",
    "3. Calcular la envolvente temporal de cada una de las señales resultantes. Para ello se recomienda rectificar la señal y aplicar un filtro pasabajos.\n",
    "4. Generar una señal de ruido blanco con la misma cantidad de muestras que la señal de audio y filtrarla con el banco de filtros de la parte 1. \n",
    "\n",
    "%- y graficar el espectro correspondiente a cada banda.\n",
    "\n",
    "5. Modular en amplitud las señales de ruido filtrado con las envolventes calculadas en la parte 2. Escuchar el resultado para cada una de las bandas. \n",
    "6. Sumar las señales moduladas para obtener la salida y comparar auditivamente el contenido rítmico de la señal obtenida y la original. "
   ]
  },
  {
   "cell_type": "code",
   "execution_count": null,
   "metadata": {},
   "outputs": [],
   "source": []
  },
  {
   "cell_type": "markdown",
   "metadata": {},
   "source": [
    "## Parte 2\n",
    "\n",
    "Repita el procedimiento dividiendo el espectro en un número menor de bandas. Por ejemplo, para un total de 3 bandas, considere las bandas 1-2, 3-4 y 5-6. Compare el resultado perceptivo con el que se obtiene en la parte anterior.  "
   ]
  },
  {
   "cell_type": "code",
   "execution_count": null,
   "metadata": {},
   "outputs": [],
   "source": []
  },
  {
   "cell_type": "markdown",
   "metadata": {},
   "source": [
    "# Ejercicio 2\n",
    "\n",
    "En este ejercicio se implementa el algoritmo de Karplus y Strong para síntesis de cuerda pulsada [2]. Se sugiere consultar [3] por una descripción detallada.\n",
    "\n",
    "\n",
    "## Parte 1\n",
    "\n",
    "Como primer paso se estudia la respuesta al impulso de un filtro peine.\n",
    "\n",
    "\n",
    "1. Escribir la ecuación en recurrencia de un filtro peine en función del retardo $L$ y la atenuación por muestra $R$ del filtro. Indicar la frecuencia fundamental de la respuesta al impulso en función de los parámetros del filtro y la frecuencia de muestreo ¿Es posible conseguir una respuesta al impulso con frecuencia fundamental arbitraria?\n",
    "2. Sintetizar las 12 notas de una octava de la *escala igualmente temperada* (en el temperamento igual se divide la octava en 12 intervalos iguales, de modo que las frecuencias de dos notas consecutivas cumplen la relación $f_{n+1} = f_{n} \\, 2^{(\\frac{1}{12})}$) comenzando en $220$Hz ($A3$). Para esto, se sugiere hacer lo siguiente:\n",
    "\n",
    "     - Calcular el parámetro $L$ del filtro para que la frecuencia fundamental de la respuesta al impulso sea lo más cercana posible a la nota deseada. Utilice una frecuencia de muestreo de $f_s$ = $22050$Hz).\n",
    "\n",
    "     - Filtrar un impulso con cada uno de los filtros diseñados.\n",
    "     - Concatenar la respuesta al impulso de cada filtro para obtener una señal con todas las notas.\n",
    "    \n",
    "\n",
    "3. Variar el parámetro $R$ y analizar su efecto mediante un espectrograma. \n",
    "4. Comparar el resultado obtenido con una cuerda pulsada real."
   ]
  },
  {
   "cell_type": "code",
   "execution_count": null,
   "metadata": {},
   "outputs": [],
   "source": []
  },
  {
   "cell_type": "markdown",
   "metadata": {},
   "source": [
    "## Parte 2\n",
    "\n",
    "Como primer refinamiento del modelo se incluye un filtro pasabajos en el lazo de realimentación. \n",
    "En [2] se usa un filtro de media móvil de primer orden ($M=2$).\n",
    "\n",
    "\n",
    "1. ¿Qué característica de la señal de una cuerda pulsada modela este filtro?\n",
    "1. Calcular la ecuación en recurrencia del filtro peine incluyendo el pasabajos en el lazo de realimentación.\n",
    "1. Indicar la frecuencia fundamental de la respuesta al impulso en función de los parámetros del filtro peine y la frecuencia de muestreo.\n",
    "1. Repetir el punto 2 de la parte 1 con el sistema incluyendo el pasabajos.\n",
    "1. Evaluar auditivamente el resultado de la síntesis al agregar el pasabajos."
   ]
  },
  {
   "cell_type": "code",
   "execution_count": null,
   "metadata": {},
   "outputs": [],
   "source": []
  },
  {
   "cell_type": "markdown",
   "metadata": {},
   "source": [
    "## Parte 3\n",
    "\n",
    "Como segunda etapa de refinamiento del modelo se incluye un filtro pasatodos (con un polo en \\(a\\) y un cero en \\(1/a\\)) en serie con el filtro pasabajos.\n",
    "\n",
    "Su objetivo es crear retardos fraccionarios para producir frecuencias fundamentales arbitrarias.\n",
    "\n",
    "\n",
    "1. Calcular la ecuación en recurrencia del filtro peine incluyendo el pasabajos y el pasatodos en el lazo de realimentación.\n",
    "1. Indicar la frecuencia fundamental de la respuesta al impulso en función de los parámetros de los filtros peine y pasatodos, y la frecuencia de muestreo.\n",
    "1. Repetir el punto 2 de la parte 1 afinando el sistema en la frecuencia exacta de las notas de la escala. En el primer paso además de calcular el parámetro \\(L\\) del filtro peine hay que calcular el parámetro \\(a\\) del filtro pasatodos. \n",
    "1. Calcular experimentalmente el error (en Hz) entre la frecuencia fundamental de cada nota sintetizada y su correspondiente en la escala temperada, con y sin el uso del filtro pasatodos. ¿A qué se debe dicho error?\n",
    "\n",
    "**Observación:** como la frecuencia fundamental de una nota no varía en el tiempo, es posible obtener una estimación bastante precisa mediante la detección del primer pico de la DFT de la señal completa de la nota."
   ]
  },
  {
   "cell_type": "code",
   "execution_count": null,
   "metadata": {
    "id": "MrAqEmloFZpW"
   },
   "outputs": [],
   "source": []
  },
  {
   "cell_type": "markdown",
   "metadata": {},
   "source": [
    "# Referencias\n",
    "\n",
    "[1] Scheirer, Eric D, \"Tempo and beat analysis of acoustic musical signals\", *The Journal of the Acoustical Society of America,* vol. 103, no.1, pp.588 601, 1998.\n",
    "\n",
    "[2] Kevin Karplus and Alex Strong, \"Digital Synthesis of Plucked String and Drum Timbres\", *Computer Music Journal,* vol.7, no.2, pp. 43-55, 1983.\n",
    "\n",
    "[3] Ken Steiglitz, *Digital Signal Processing Primer: With Applications to Digital Audio and Computer Music,* ch. Comb and String Filters. Prentice Hall, 1996.\n"
   ]
  }
 ],
 "metadata": {
  "colab": {
   "name": "AudioDSP - Practico 1.ipynb",
   "provenance": []
  },
  "kernelspec": {
   "display_name": "Python 3",
   "language": "python",
   "name": "python3"
  },
  "language_info": {
   "codemirror_mode": {
    "name": "ipython",
    "version": 3
   },
   "file_extension": ".py",
   "mimetype": "text/x-python",
   "name": "python",
   "nbconvert_exporter": "python",
   "pygments_lexer": "ipython3",
   "version": "3.9.7"
  }
 },
 "nbformat": 4,
 "nbformat_minor": 1
}
