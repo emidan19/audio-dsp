{
 "cells": [
  {
   "cell_type": "markdown",
   "metadata": {},
   "source": [
    "# <center> PROCESAMIENTO DIGITAL DE SEÑALES DE AUDIO</center>\n",
    "## <center>Mel-frequency cepstral coefficients (MFCCs)</center>      "
   ]
  },
  {
   "cell_type": "code",
   "execution_count": null,
   "metadata": {},
   "outputs": [],
   "source": [
    "%matplotlib inline\n",
    "\n",
    "import numpy as np\n",
    "import matplotlib.pyplot as plt\n",
    "\n",
    "import librosa\n",
    "import librosa.display\n",
    "\n",
    "import IPython.display as ipd\n",
    "\n",
    "librosa.__version__"
   ]
  },
  {
   "cell_type": "markdown",
   "metadata": {},
   "source": [
    "**NOTA:** *Las siguientes dos celdas solo son necesarias para descargar el archivo de ejemplo. Ignórelas si va a trabajar con sus propios archivos de audio.*"
   ]
  },
  {
   "cell_type": "code",
   "execution_count": null,
   "metadata": {},
   "outputs": [],
   "source": [
    "!pip install wget"
   ]
  },
  {
   "cell_type": "code",
   "execution_count": null,
   "metadata": {},
   "outputs": [],
   "source": [
    "import wget"
   ]
  },
  {
   "cell_type": "markdown",
   "metadata": {},
   "source": [
    "### Cómo correr el notebook\n",
    "Se puede bajar y correr el notebook de forma local en una computadora.\n",
    "\n",
    "O también se puede correr en Google Colab usando el siguiente enlace. \n",
    "\n",
    "<table align=\"center\">\n",
    "  <td>\n",
    "    <a target=\"_blank\" href=\"https://colab.research.google.com/github/mrocamora/audio-dsp/blob/main/notebooks/audioDSP-MFCC_example.ipynb\"><img src=\"https://www.tensorflow.org/images/colab_logo_32px.png\" />Run in Google Colab</a>\n",
    "  </td>\n",
    "</table>"
   ]
  },
  {
   "cell_type": "markdown",
   "metadata": {},
   "source": [
    "### Parte 1 - cálculo de los MFCCs\n",
    "A continuación se siguen los siguientes pasos para el cálculo de los Coeficientes Cepstrales de Frecuencia Mel (MFCCs).\n",
    "\n",
    "1. Cálculo del espectrograma (de potencia).\n",
    "2. Aplicación de banco de filtros en escala Mel.\n",
    "3. Cálculo del logaritmo (potencia a dB)\n",
    "4. Cálculo de la DCT y se devuelven primeros coeficientes (liftrado)\n",
    "\n",
    "También se calcula y muestra el banco de filtros en escala Mel. "
   ]
  },
  {
   "cell_type": "code",
   "execution_count": null,
   "metadata": {},
   "outputs": [],
   "source": [
    "# download audio file\n",
    "wget.download('https://github.com/mrocamora/audio-dsp/blob/main/audio/superstition.wav?raw=true')"
   ]
  },
  {
   "cell_type": "code",
   "execution_count": null,
   "metadata": {},
   "outputs": [],
   "source": [
    "# read the audio file\n",
    "filename = 'superstition.wav'\n",
    "\n",
    "y, sr = librosa.load(filename)"
   ]
  },
  {
   "cell_type": "code",
   "execution_count": null,
   "metadata": {},
   "outputs": [],
   "source": [
    "# plot audio signal\n",
    "plt.figure(figsize=(12,8))\n",
    "ax1 = plt.subplot(2, 1, 1)\n",
    "librosa.display.waveplot(y, sr=sr)\n",
    "plt.title('audio waveform')\n",
    "plt.tight_layout()"
   ]
  },
  {
   "cell_type": "code",
   "execution_count": null,
   "metadata": {},
   "outputs": [],
   "source": [
    "ipd.Audio(y, rate=sr)"
   ]
  },
  {
   "cell_type": "code",
   "execution_count": null,
   "metadata": {},
   "outputs": [],
   "source": [
    "# 1. Compute spectrogam from STFT\n",
    "n_fft = 2048\n",
    "Y = librosa.stft(y, win_length=1024, hop_length=512, n_fft=n_fft, window='hann')\n",
    "S = np.abs(Y)**2\n",
    "\n",
    "# 2. apply mel-filterbank to combine FFT bins into Mel-frequency bins\n",
    "# number of mel-frequency bands\n",
    "n_mels = 128\n",
    "# maximum frequency for the analysis\n",
    "fmax = 4000 \n",
    "# compute mel-spectrogram\n",
    "M = librosa.feature.melspectrogram(S=S, n_mels=n_mels, fmax=fmax)\n",
    "\n",
    "# 3. apply log to convert power to dB\n",
    "M_log = librosa.power_to_db(M)\n",
    "\n",
    "# 4. apply DCT and return first n_mfcc coefficients\n",
    "# number of MFCC coefficients \n",
    "n_mfcc = 20\n",
    "# compute MFCCs from mel-spectrogram\n",
    "mfccs = librosa.feature.mfcc(S=M_log, n_mfcc=n_mfcc)\n",
    "\n",
    "# NOTE: the following function is a wrapper for all of the above\n",
    "# mfccs = librosa.feature.mfcc(y=y, n_mfcc=n_mfcc)"
   ]
  },
  {
   "cell_type": "code",
   "execution_count": null,
   "metadata": {},
   "outputs": [],
   "source": [
    "# compute and plot the Mel filter bank\n",
    "melfb = librosa.filters.mel(sr, n_fft, fmax=fmax, n_mels=n_mels)\n",
    "freqs = librosa.fft_frequencies(n_fft=n_fft)\n",
    "\n",
    "plt.figure(figsize=(12, 6))\n",
    "plt.subplot(1, 2, 1)\n",
    "librosa.display.specshow(melfb, x_axis='linear')\n",
    "plt.xlim([0, fmax])\n",
    "plt.ylabel('Mel filter')\n",
    "plt.title('Mel filter bank')\n",
    "plt.subplot(1, 2, 2)\n",
    "plt.plot(freqs, melfb.T)\n",
    "plt.title('Mel filter bank')\n",
    "plt.xlabel('Frequency [Hz]')\n",
    "plt.xlim([0, fmax])\n",
    "plt.tight_layout()"
   ]
  },
  {
   "cell_type": "code",
   "execution_count": null,
   "metadata": {},
   "outputs": [],
   "source": [
    "# plot mel-spectrogram and MFCCs\n",
    "ind_max = np.argmax(freqs > fmax)\n",
    "plt.figure(figsize=(12, 8))\n",
    "plt.subplot(2, 1, 1)\n",
    "librosa.display.specshow(librosa.power_to_db(S[:ind_max, :]), y_coords=freqs[:ind_max],\n",
    "                         y_axis='linear')#, x_axis='time')\n",
    "plt.title('spectrogram')\n",
    "plt.subplot(2, 1, 2)\n",
    "librosa.display.specshow(M_log, x_axis='time', y_axis='mel', sr=sr, fmax=fmax)\n",
    "plt.title('mel-spectrogram')\n",
    "plt.tight_layout()"
   ]
  },
  {
   "cell_type": "code",
   "execution_count": null,
   "metadata": {},
   "outputs": [],
   "source": [
    "# plot MFCCs\n",
    "ind = [4, 14]\n",
    "\n",
    "plt.figure(figsize=(12, 8))\n",
    "plt.subplot(2, 1, 1)\n",
    "librosa.display.specshow(mfccs, x_axis='time')\n",
    "plt.title('MFCC (cofficients ' + str(0) + ' to ' + str(n_mfcc) + ')')\n",
    "plt.tight_layout()\n",
    "\n",
    "plt.subplot(2, 1, 2)\n",
    "librosa.display.specshow(mfccs[ind[0]:ind[1], :], x_axis='time')\n",
    "plt.title('MFCC (cofficients ' + str(ind[0]) + ' to ' + str(ind[1]) + ')')\n",
    "plt.tight_layout()"
   ]
  },
  {
   "cell_type": "markdown",
   "metadata": {},
   "source": [
    "### Parte 2 - reconstrucción de la señal de audio a partir de los MFCCs\n",
    "\n",
    "Por último, se invierte el proceso de forma de reconstruír una señal de audio a partir de los MFCCs. \n",
    "\n",
    "Para ello, se siguen los siguientes pasos. \n",
    "\n",
    "1. Primero se obtiene el espectrograma en escala Mel aplicando la transformada DCT inversa e invirtiendo el logaritmo. \n",
    "2. Luego se pasa de frecuencias en escala Mel a frecuencia en escala lineal, para obtener un espectrograma tradicional. \n",
    "3. Por último, se obtiene una señal de audio a partir del espectrograma, usando una versión rápida del algoritmo Griffin-Lim [1][2].\n",
    "\n",
    "La señal obtenida permite confirmar que los MFCCs codifican una estimación de la envolvente espectral de la señal de audio.\n",
    "\n",
    "[1] D. W. Griffin and J. S. Lim, “Signal estimation from modified short-time Fourier transform,” IEEE Trans. ASSP, vol.32, no.2, pp.236–243, Apr. 1984.\n",
    "\n",
    "[2] Perraudin, N., Balazs, P., & Søndergaard, P. L. “A fast Griffin-Lim algorithm,” IEEE Workshop on Applications of Signal Processing to Audio and Acoustics (pp. 1-4), Oct. 2013."
   ]
  },
  {
   "cell_type": "code",
   "execution_count": null,
   "metadata": {},
   "outputs": [],
   "source": [
    "# 1. Invert Mel-frequency cepstral coefficients to approximate a Mel power spectrogram.\n",
    "# Inverse DCT is applied to the MFCCs followed by dB to power spectrum mapping. \n",
    "W = librosa.feature.inverse.mfcc_to_mel(mfccs, n_mels=n_mels)\n",
    "\n",
    "# 2. Approximate STFT magnitude from a Mel power spectrogram.\n",
    "X = librosa.feature.inverse.mel_to_stft(W)\n",
    "\n",
    "# 3. Approximate magnitude spectrogram inversion using the “fast” Griffin-Lim algorithm. \n",
    "x = librosa.griffinlim(X)"
   ]
  },
  {
   "cell_type": "code",
   "execution_count": null,
   "metadata": {},
   "outputs": [],
   "source": [
    "# plot audio signal\n",
    "plt.figure(figsize=(12,8))\n",
    "ax1 = plt.subplot(2, 1, 1)\n",
    "librosa.display.waveplot(x, sr=sr)\n",
    "plt.title('audio waveform')\n",
    "ax2 = plt.subplot(2, 1, 2)\n",
    "librosa.display.specshow(librosa.power_to_db(X[:ind_max, :]**2), y_coords=freqs[:ind_max],\n",
    "                         y_axis='linear', x_axis='time')\n",
    "plt.title('spectrogram')\n",
    "plt.tight_layout()"
   ]
  },
  {
   "cell_type": "code",
   "execution_count": null,
   "metadata": {
    "scrolled": true
   },
   "outputs": [],
   "source": [
    "ipd.Audio(x, rate=sr)"
   ]
  },
  {
   "cell_type": "code",
   "execution_count": null,
   "metadata": {},
   "outputs": [],
   "source": []
  }
 ],
 "metadata": {
  "kernelspec": {
   "display_name": "Python 3",
   "language": "python",
   "name": "python3"
  },
  "language_info": {
   "codemirror_mode": {
    "name": "ipython",
    "version": 3
   },
   "file_extension": ".py",
   "mimetype": "text/x-python",
   "name": "python",
   "nbconvert_exporter": "python",
   "pygments_lexer": "ipython3",
   "version": "3.8.10"
  }
 },
 "nbformat": 4,
 "nbformat_minor": 2
}
