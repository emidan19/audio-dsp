{
 "cells": [
  {
   "cell_type": "markdown",
   "metadata": {},
   "source": [
    "# <center> PROCESAMIENTO DIGITAL DE SEÑALES DE AUDIO</center>\n",
    "## <center> Procesamiento en tiempo corto</center>      "
   ]
  },
  {
   "cell_type": "code",
   "execution_count": null,
   "metadata": {},
   "outputs": [],
   "source": [
    "%matplotlib inline\n",
    "\n",
    "import math\n",
    "import numpy as np\n",
    "import matplotlib.pyplot as plt\n",
    "\n",
    "from scipy import signal\n",
    "from scipy.io import wavfile\n",
    "\n",
    "import IPython.display as ipd"
   ]
  },
  {
   "cell_type": "markdown",
   "metadata": {},
   "source": [
    "**NOTA:** *Las siguientes dos celdas solo son necesarias para descargar el archivo de ejemplo. Ignórelas si va a trabajar con sus propios archivos de audio.*"
   ]
  },
  {
   "cell_type": "code",
   "execution_count": null,
   "metadata": {},
   "outputs": [],
   "source": [
    "!pip install wget"
   ]
  },
  {
   "cell_type": "code",
   "execution_count": null,
   "metadata": {},
   "outputs": [],
   "source": [
    "import wget"
   ]
  },
  {
   "cell_type": "markdown",
   "metadata": {},
   "source": [
    "### Descripción\n",
    "\n",
    "Este ejercicio busca ser una introducción al **procesamiento de señales en tiempo corto**.\n",
    "\n",
    "La tarea planteada consiste en obtener un **contorno de la forma de onda** de la señal a través de calcular el **máximo** de la señal en tramas (*frames*) de tiempo corto. Una posible utilidad de este procesamiento es representar la forma de onda con menos muestras y se utiliza en aplicaciones de edición o visualización de audio para disminuir los recursos de cómputo requeridos por la interfaz gráfica y de modo que responda más rápidamente. "
   ]
  },
  {
   "cell_type": "markdown",
   "metadata": {},
   "source": [
    "### Cómo correr el notebook\n",
    "Se puede bajar y correr el notebook de forma local en una computadora.\n",
    "\n",
    "O también se puede correr en Google Colab usando el siguiente enlace. \n",
    "\n",
    "<table align=\"center\">\n",
    "  <td>\n",
    "    <a target=\"_blank\" href=\"https://colab.research.google.com/github/emidan19/audio-dsp/blob/main/notebooks/audioDSP-short_time_example.ipynb\"><img src=\"https://www.tensorflow.org/images/colab_logo_32px.png\" />Run in Google Colab</a>\n",
    "  </td>\n",
    "</table>"
   ]
  },
  {
   "cell_type": "markdown",
   "metadata": {},
   "source": [
    "### Obtener un archivo"
   ]
  },
  {
   "cell_type": "markdown",
   "metadata": {},
   "source": [
    "La siguiente celda descarga el archivo de audio de ejemplo."
   ]
  },
  {
   "cell_type": "code",
   "execution_count": null,
   "metadata": {},
   "outputs": [],
   "source": [
    "# download audio file to use\n",
    "wget.download('https://github.com/emidan19/audio-dsp/blob/main/audio/el_sol_brillo_calurosamente.wav?raw=true')"
   ]
  },
  {
   "cell_type": "markdown",
   "metadata": {},
   "source": [
    "A continuación se carga el archivo de audio y puede reproducirse."
   ]
  },
  {
   "cell_type": "code",
   "execution_count": null,
   "metadata": {},
   "outputs": [],
   "source": [
    "# load audio file from local path\n",
    "sr, data = wavfile.read('./el_sol_brillo_calurosamente.wav')\n",
    "\n",
    "# normalize maximum (absolute) amplitude\n",
    "data = data / np.max(abs(data)) * 0.9\n",
    "\n",
    "# play audio\n",
    "ipd.Audio(data, rate=sr)"
   ]
  },
  {
   "cell_type": "markdown",
   "metadata": {},
   "source": [
    "La siguiente celda grafica la forma de onda."
   ]
  },
  {
   "cell_type": "code",
   "execution_count": null,
   "metadata": {},
   "outputs": [],
   "source": [
    "# signal length in samples\n",
    "L = data.shape[0]\n",
    "\n",
    "# time stamps for audio samples\n",
    "t = np.linspace(0, L / sr, L)\n",
    "\n",
    "plt.figure(figsize=(20,5))\n",
    "plt.plot(t, data)\n",
    "plt.ylabel('Amplitude')\n",
    "plt.xlabel('Time (s)')\n",
    "plt.tight_layout()"
   ]
  },
  {
   "cell_type": "markdown",
   "metadata": {},
   "source": [
    "### Procesamiento en tiempo corto\n",
    "La siguiente función calcula el máximo de la forma de onda en tramas (o ventanas) de tiempo corto. \n",
    "\n",
    "Complete el código que se proporciona a continuación teniendo en cuenta lo siguiente.\n",
    "\n",
    "  1. El largo de ventana y el salto en muestras deben convertirse a un número entero de muestras.\n",
    "  2. Al calcular la cantidad de tramas totales a procesar trate de utilizar la mayor cantidad de señal posible.\n",
    "  3. La frecuencia de muestreo de la señal resultante está dada por el salto entre ventanas.\n",
    "  4. Cuando se obtiene cada trama tenga presente cómo se indexa un array respecto a la inclusión del último valor.\n",
    "  5. El cálculo del máximo es respecto al valor absoluto de la señal en la trama.\n"
   ]
  },
  {
   "cell_type": "code",
   "execution_count": null,
   "metadata": {},
   "outputs": [],
   "source": [
    "def max_short_time(x, fs, win_size, hop_size):\n",
    "    \"\"\"\n",
    "    Computes maximum values of short-time frames of the audio waveform.\n",
    "    \n",
    "    Parameters\n",
    "    ----------\n",
    "    x (numpy array)  : input audio waveform\n",
    "    fs (int)         : sampling frequency in Hz\n",
    "    win_size (float) : frame size in seconds\n",
    "    hop_size (float) : hop size in seconds\n",
    "    \n",
    "    Returns\n",
    "    -------\n",
    "    y (numpy array) : output signal\n",
    "    t (numpy array) : time instants\n",
    "    \n",
    "    \"\"\"\n",
    "    \n",
    "    # signal length in samples\n",
    "    L = x.shape[0]\n",
    "    # window size in samples\n",
    "    win_samp = \n",
    "    # hop size in samples\n",
    "    hop_samp = \n",
    "    \n",
    "    # number of frames to process\n",
    "    num_frames = \n",
    "\n",
    "    # empty array for the output signal\n",
    "    y = np.zeros(num_frames)\n",
    "   \n",
    "    # sampling frequency of the resulting signal\n",
    "    fs_y = \n",
    "    \n",
    "    # time stamps for the resulting signal samples\n",
    "    t = \n",
    "    \n",
    "    # compute maximum value for each signal frame\n",
    "    for i in range(num_frames):\n",
    "        \n",
    "        # frame's initial index\n",
    "        ind_ini = \n",
    "\n",
    "        # frame's ending index\n",
    "        ind_end = \n",
    "        \n",
    "        # signal frame\n",
    "        frame = x[ind_ini:ind_end]\n",
    "        \n",
    "        # maximum (absolute) value in the frame\n",
    "        y[i] = \n",
    "        \n",
    "    return y, t"
   ]
  },
  {
   "cell_type": "markdown",
   "metadata": {},
   "source": [
    "### Aplicar la funcion implementada\n",
    "\n",
    "Una vez implementada la función ejecute el siguiente código para calcular el contorno de la forma de onda a través del máximo de tiempo corto. \n",
    "\n",
    "A continuación realice lo siguiente:\n",
    "  1. Analice el efecto del largo de la ventana en la representación obtenida.\n",
    "  2. Analice el efecto del salto entre ventanas en la representación obtenida.\n",
    "  3. ¿Qué valores considera que son adecuados para cada uno de dichos parámetros?"
   ]
  },
  {
   "cell_type": "code",
   "execution_count": null,
   "metadata": {},
   "outputs": [],
   "source": [
    "WIN_SIZE = 0.025\n",
    "HOP_SIZE = 0.001\n",
    "\n",
    "# compute short-time maximum signal of the audio waveform\n",
    "max_amp, t_max = max_short_time(data, sr, WIN_SIZE, HOP_SIZE)\n",
    "\n",
    "\n",
    "# plot short-time maximum and audio waveform\n",
    "plt.figure(figsize=(20,5))\n",
    "plt.plot(t, data, 'k', alpha=0.3)\n",
    "plt.plot(t_max, max_amp)\n",
    "plt.plot(t_max, -max_amp)\n",
    "plt.ylabel('Amplitude')\n",
    "plt.xlabel('Time (s)')\n",
    "plt.tight_layout()"
   ]
  },
  {
   "cell_type": "markdown",
   "metadata": {},
   "source": [
    "### Ventana suavizante\n",
    "\n",
    "En la función implementada anteriormente no se usa una ventana suavizante explícitamente, lo que corresponde a usar una ventana rectangular. \n",
    "\n",
    "En la siguiente celda se genera una ventana suavizante de un tipo determinado (e.g. *Hann*, *Hamming*) y de cierto largo. \n",
    "\n",
    "A continuación realice lo siguiente:\n",
    "\n",
    "  1. Estudie la documentación de `scipy.signal` para ver los tipos de ventana que es posible generar. Pruebe generando diferentes ventanas.\n",
    "  2. Modifique la función de procesamiento en tiempo corto para que se pueda usar cualquier tipo de ventana suavizante.\n",
    "  3. Analice el efecto del tipo de ventana en la representación obtenida. En particular compare una ventana *rectangular* con una ventana tipo *Han*."
   ]
  },
  {
   "cell_type": "code",
   "execution_count": null,
   "metadata": {},
   "outputs": [],
   "source": [
    "window_type = 'hann'\n",
    "window_length = 1024\n",
    "\n",
    "window = signal.windows.get_window(window_type, window_length)\n",
    "\n",
    "plt.plot(window)\n",
    "plt.title(window_type + \" window\")\n",
    "plt.ylabel(\"Amplitude\")\n",
    "plt.xlabel(\"Sample\")\n",
    "plt.tight_layout()"
   ]
  },
  {
   "cell_type": "code",
   "execution_count": null,
   "metadata": {},
   "outputs": [],
   "source": []
  }
 ],
 "metadata": {
  "kernelspec": {
   "display_name": "Python 3",
   "language": "python",
   "name": "python3"
  },
  "language_info": {
   "codemirror_mode": {
    "name": "ipython",
    "version": 3
   },
   "file_extension": ".py",
   "mimetype": "text/x-python",
   "name": "python",
   "nbconvert_exporter": "python",
   "pygments_lexer": "ipython3",
   "version": "3.8.10"
  }
 },
 "nbformat": 4,
 "nbformat_minor": 2
}
