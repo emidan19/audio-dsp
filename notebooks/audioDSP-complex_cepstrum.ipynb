{
 "cells": [
  {
   "cell_type": "markdown",
   "metadata": {},
   "source": [
    "# <center> PROCESAMIENTO DIGITAL DE SEÑALES DE AUDIO</center>\n",
    "## <center> Complex Cepstrum Analysis</center>      "
   ]
  },
  {
   "cell_type": "code",
   "execution_count": 1,
   "metadata": {},
   "outputs": [],
   "source": [
    "%matplotlib inline\n",
    "\n",
    "import numpy as np\n",
    "import matplotlib.pyplot as plt\n",
    "from  matplotlib import patches\n",
    "from matplotlib.pyplot import axvline, axhline"
   ]
  },
  {
   "cell_type": "code",
   "execution_count": 2,
   "metadata": {},
   "outputs": [
    {
     "name": "stdout",
     "output_type": "stream",
     "text": [
      "Collecting scipy\n",
      "  Downloading scipy-1.8.1-cp38-cp38-manylinux_2_17_x86_64.manylinux2014_x86_64.whl (41.6 MB)\n",
      "\u001b[K     |████████████████████████████████| 41.6 MB 18.3 MB/s eta 0:00:01\n",
      "\u001b[?25hRequirement already satisfied, skipping upgrade: numpy<1.25.0,>=1.17.3 in /home/rocamora/.local/lib/python3.8/site-packages (from scipy) (1.18.5)\n",
      "\u001b[31mERROR: tensorflow 2.3.0 has requirement scipy==1.4.1, but you'll have scipy 1.8.1 which is incompatible.\u001b[0m\n",
      "Installing collected packages: scipy\n",
      "  Attempting uninstall: scipy\n",
      "    Found existing installation: scipy 1.7.1\n",
      "    Uninstalling scipy-1.7.1:\n",
      "      Successfully uninstalled scipy-1.7.1\n",
      "Successfully installed scipy-1.8.1\n",
      "Note: you may need to restart the kernel to use updated packages.\n"
     ]
    }
   ],
   "source": [
    "pip install --upgrade scipy"
   ]
  },
  {
   "cell_type": "code",
   "execution_count": 3,
   "metadata": {},
   "outputs": [
    {
     "data": {
      "text/plain": [
       "'1.8.1'"
      ]
     },
     "execution_count": 3,
     "metadata": {},
     "output_type": "execute_result"
    }
   ],
   "source": [
    "import scipy\n",
    "scipy.__version__"
   ]
  },
  {
   "cell_type": "code",
   "execution_count": 4,
   "metadata": {},
   "outputs": [],
   "source": [
    "from scipy import signal"
   ]
  },
  {
   "cell_type": "markdown",
   "metadata": {},
   "source": [
    "### Introducción\n",
    "\n",
    "#### Descripción\n",
    "\n",
    "Nuestro objetivo es aplicar el cesptrum complejo en la deconvolución de señales de voz para separar la excitación de la respuesta al impulso del tracto vocal. Para ello, estudiamos las características del cepstrum complejo de las secuencias involucradas en el modelo de producción de la voz: \n",
    " - secuencias con transformada $\\mathcal{Z}$ racional, \n",
    " - y un tren de pulsos períodico.\n"
   ]
  },
  {
   "cell_type": "markdown",
   "metadata": {},
   "source": [
    "### Cómo correr el notebook\n",
    "Se puede bajar y correr el notebook de forma local en una computadora.\n",
    "\n",
    "O también se puede correr en Google Colab usando el siguiente enlace. \n",
    "\n",
    "<table align=\"center\">\n",
    "  <td>\n",
    "    <a target=\"_blank\" href=\"https://colab.research.google.com/github/mrocamora/audio-dsp/blob/main/notebooks/audioDSP-complex_cepstrum.ipynb\"><img src=\"https://www.tensorflow.org/images/colab_logo_32px.png\" />Run in Google Colab</a>\n",
    "  </td>\n",
    "</table>"
   ]
  },
  {
   "cell_type": "markdown",
   "metadata": {},
   "source": [
    "### Parte 1 \n",
    "\n",
    "#### Secuencia con transferencia racional\n",
    "\n",
    "#### Parte 1.1 \n",
    "\n",
    "Comenzamos planteando una secuencia con transferencia racional, del tipo\n",
    "\n",
    "$$H(z) = \\frac{(1-bz)(1-b^*z)}{(1-cz^{-1})(1-c^*z^{-1})},\\;\\;\\;\\textrm{con }|b|,|c|<1$$\n",
    "lo que corresponde a\n",
    " - un par de ceros conjugados fuera el círculo unidad\n",
    " - un par de polos conjugados dentro del círculo unidad.\n",
    "\n",
    "Si realizamos el cálculo analítico del cepstrum complejo usando la transformada $\\mathcal{Z}$, obtenemos\n",
    "\n",
    "$$\\hat{h}[n]=\\frac{2}{n}|b|^{-n}\\cos(n\\theta_b)u[-n+1] + \\frac{2}{n}|c|^n\\cos(n\\theta_c)u[n-1], \\quad \\textrm{con} \\;\\; b=|b|e^{j\\theta_b},\\;\\;c=|c|e^{j\\theta_c}.$$\n",
    "\n",
    "A continuación usamos la DFT para calcular el cepstrum complejo a partir de la transferencia racional.\n",
    "\n",
    "El primer paso es plantear la transferencia racional y calcular los polos y ceros. Complete el siguiente código para hacerlo."
   ]
  },
  {
   "cell_type": "code",
   "execution_count": null,
   "metadata": {},
   "outputs": [],
   "source": [
    "# magnitude and phase of the zero\n",
    "mz = 0.97\n",
    "phiz = 0.88 * np.pi\n",
    "# magnitude and phase of the pole\n",
    "mp = 0.97\n",
    "phip = 0.12 * np.pi\n",
    "\n",
    "# coefficients of the zero and pole\n",
    "b = mz * np.exp(1j * phiz)\n",
    "c = mp * np.exp(1j * phip)\n",
    "\n",
    "# numerator and denominator coefficients\n",
    "# B = \n",
    "# A = \n",
    "\n",
    "# get zero, pole and gain from transfer function\n",
    "z, p, k = signal.tf2zpk(B, A)"
   ]
  },
  {
   "cell_type": "code",
   "execution_count": null,
   "metadata": {},
   "outputs": [],
   "source": [
    "# plot zero pole diagram\n",
    "plt.figure(figsize=(12, 12))\n",
    "ax1 = plt.subplot(2, 1, 1)\n",
    "ax = plt.subplot(2, 2, 1)\n",
    "# unit circle and zero axes    \n",
    "unit_circle = patches.Circle((0,0), radius=1, fill=False,\n",
    "                             color='black', ls='solid', alpha=0.6)\n",
    "ax.add_patch(unit_circle)\n",
    "axvline(0, color='0.6')\n",
    "axhline(0, color='0.6')\n",
    "\n",
    "# plot the zeros and set marker properties    \n",
    "t1 = plt.plot(z.real, z.imag, 'go', ms=10)\n",
    "plt.setp(t1, markersize=10.0, markeredgewidth=1.0,\n",
    "         markeredgecolor='k', markerfacecolor='g')\n",
    "# plot the poles and set marker properties\n",
    "t2 = plt.plot(p.real, p.imag, 'rx', ms=10)\n",
    "plt.setp(t2, markersize=12.0, markeredgewidth=3.0,\n",
    "         markeredgecolor='r', markerfacecolor='r')\n",
    "\n",
    "plt.title(\"Pole-Zero Plot\")\n",
    "plt.xlabel(\"Real\")\n",
    "plt.ylabel(\"Imaginary\");"
   ]
  },
  {
   "cell_type": "markdown",
   "metadata": {},
   "source": [
    "#### Parte 1.2 \n",
    "\n",
    "El siguiente paso es calcular la respuesta en frecuencia a partir de los coeficientes de los polinomios numerador y denominador. \n",
    "\n",
    "Complete el siguiente código para calcular la respuesta en frecuencia, teniendo encuenta el desdoblamiento de la fase.\n",
    "\n",
    "Responda las siguientes pregutas.\n",
    "1. ¿Por qué se realiza el desdoblamiento de fase?\n",
    "2. ¿Por qué se elimina el componente de fase lineal?"
   ]
  },
  {
   "cell_type": "code",
   "execution_count": null,
   "metadata": {},
   "outputs": [],
   "source": [
    "# compute the DFT taking into account the phase unwrapping\n",
    "\n",
    "# number of DFT values\n",
    "N = 512\n",
    "# compute the transfer function\n",
    "w, H = signal.freqz(B, A, worN=N, whole=True)\n",
    "\n",
    "# magnitude \n",
    "# magH = \n",
    "# phase\n",
    "# phaseH = \n",
    "# phase unwraped\n",
    "# phaseH_unw1 = \n",
    "\n",
    "# === elimination of the linear phase component\n",
    "\n",
    "# index of the phase value at pi\n",
    "ind_pi = int(np.floor((N+1)/2))\n",
    "\n",
    "# compute the linear phase factor\n",
    "r = round(phaseH_unw1[ind_pi]/np.pi)\n",
    "\n",
    "# compute the linear phase component\n",
    "ph_lin_component = r * np.pi * np.arange(N) / ind_pi\n",
    "\n",
    "# substract the linear phase component\n",
    "phaseH_unw2 = phaseH_unw1 - ph_lin_component; \n",
    "\n",
    "# check that phase at 0 and pi frequency is 0\n",
    "assert phaseH_unw2[0] == 0, \"Phase value at zero is not 0\"\n",
    "assert phaseH_unw2[ind_pi] == 0, \"Phase value at pi is not 0\""
   ]
  },
  {
   "cell_type": "code",
   "execution_count": null,
   "metadata": {},
   "outputs": [],
   "source": [
    "# plot magnitude and phase\n",
    "plt.figure(figsize=(12,6))\n",
    "\n",
    "# plot the frequency response\n",
    "plt.figure(figsize=(12,6))\n",
    "ax1 = plt.subplot(2, 1, 1)\n",
    "ax1.set_title('Frequency response (magnitude and phase)')\n",
    "ax1.plot(w, 20 * np.log10(magH), 'b')\n",
    "ax1.set_ylabel('Magnitude (dB)')\n",
    "ax1.set_xlabel('Frequency (rad)')\n",
    "ax1.grid()\n",
    "ax2 = plt.subplot(2, 1, 2)\n",
    "ax2.plot(w, phaseH, 'g')\n",
    "ax2.set_ylabel('Angle (rad)')\n",
    "ax2.set_xlabel('Frequency (rad)')\n",
    "ax2.grid()\n",
    "\n",
    "plt.figure(figsize=(12,6))\n",
    "ax3 = plt.subplot(2, 1, 1)\n",
    "ax3.set_title('Phase response (unwraped and without linear phase component)')\n",
    "ax3.plot(w, phaseH_unw1, 'g')\n",
    "ax3.set_ylabel('Angle (rad)')\n",
    "ax3.set_xlabel('Frequency (rad)')\n",
    "ax3.grid()\n",
    "ax4 = plt.subplot(2, 1, 2)\n",
    "ax4.plot(w, phaseH_unw2, 'g')\n",
    "ax4.set_ylabel('Angle (rad)')\n",
    "ax4.set_xlabel('Frequency (rad)')\n",
    "ax4.grid()"
   ]
  },
  {
   "cell_type": "markdown",
   "metadata": {},
   "source": [
    "#### Parte 1.3 \n",
    "\n",
    "A continuación, para calcular el cepstrum complejo resta tomar el logaritmo y aplicar la DFT inversa. \n",
    "Tenga presente que,\n",
    "\n",
    "$$\n",
    "\\begin{align*}\n",
    "\t \\hat{X}(e^{j\\omega}) = \\log X(e^{j\\omega}) &= \\log\\left(|X(e^{j\\omega})|e^{j\\angle X(e^{j\\omega})}\\right)\\\\\n",
    "\t   &= \\log\\left(|X(e^{j\\omega})|\\right)+j\\angle X(e^{j\\omega}). \n",
    "\\end{align*}\n",
    "$$\n",
    "\n",
    "Complete el siguiente código, para implementar el logaritmo y la IDFT.\n",
    "\n",
    "Responda las siguientes preguntas.\n",
    "\n",
    "1. ¿Qué tipo de simetría tiene $\\hat{X}(e^{j\\omega})$?\n",
    "2. ¿El cepstrum complejo $\\hat{h}[n]$ es una secuencia real o compleja?"
   ]
  },
  {
   "cell_type": "code",
   "execution_count": null,
   "metadata": {},
   "outputs": [],
   "source": [
    "# compute the complex logarithm (using magH and phaseH)\n",
    "# logH = \n",
    "\n",
    "# IDFT\n",
    "# hat_h = "
   ]
  },
  {
   "cell_type": "code",
   "execution_count": null,
   "metadata": {},
   "outputs": [],
   "source": [
    "plt.figure(figsize=(12,6))\n",
    "q = np.linspace(-N/2-1, N/2, N)\n",
    "ax1 = plt.subplot(2, 1, 1)\n",
    "ax1.set_title('Complex cepstrum $\\hat{h}[n]$')\n",
    "ax1.plot(q, np.fft.fftshift(hat_h))\n",
    "ax1.set_ylabel('Amplitude')\n",
    "ax1.grid()\n",
    "ax2 = plt.subplot(2, 1, 2)\n",
    "ax2.plot(q, np.fft.fftshift(hat_h))\n",
    "ax2.set_ylabel('Amplitude')\n",
    "ax2.set_xlabel('Quefrency (samples)')\n",
    "ax2.set_xlim([-80, 80])\n",
    "ax2.grid()"
   ]
  },
  {
   "cell_type": "markdown",
   "metadata": {},
   "source": [
    "### Parte 2 \n",
    "\n",
    "#### Tren de pulsos periódico\n",
    "\n",
    "#### Parte 2.1 \n",
    "\n",
    "Comenzamos planteando un tren de pulsos periódico, del tipo\n",
    "\n",
    "$$p[n]=\\beta^n\\sum_{k=0}^{\\infty}\\delta[n-kN],\\;\\textrm{con }|\\beta|<1.$$\n",
    "\n",
    "Si realizamos el cálculo analítico del cepstrum complejo usando la transformada $\\mathcal{Z}$, obtenemos\n",
    "\n",
    "$$\\hat{p}[n]=\\frac{N}{n}\\beta^n\\sum_{k=1}^{\\infty}\\delta[n-kN].$$\n",
    "\n",
    "A continuación repetimos el mismo procedimiento de la parte anterior, para calcular el cepstrum complejo usando la DFT.\n",
    "\n",
    "El primer paso es plantear el tren de pulsos periódico a partir de sus parámetros."
   ]
  },
  {
   "cell_type": "code",
   "execution_count": null,
   "metadata": {},
   "outputs": [],
   "source": [
    "# number of samples (note this is not the period)\n",
    "N = 512\n",
    "# period in samples (the N value of the equation)\n",
    "T = 80\n",
    "# atenuation factor\n",
    "beta = 0.992\n",
    "\n",
    "# create the signal in time\n",
    "p = np.zeros(N)\n",
    "k = np.arange(1, np.floor((N-1)/T)+1)\n",
    "kP = k * T\n",
    "kP = kP.astype(int)\n",
    "p[kP] = beta**kP\n",
    "p[0] = 1\n",
    "\n",
    "# plot periodic train\n",
    "plt.figure(figsize=(12,6))\n",
    "ax1 = plt.subplot(2, 1, 1)\n",
    "ax1.stem(p)\n",
    "ax1.set_title('Periodic train $p[n]$')\n",
    "ax1.set_ylabel('Amplitude')\n",
    "ax1.set_xlabel('Time (samples)')\n",
    "ax1.grid()"
   ]
  },
  {
   "cell_type": "markdown",
   "metadata": {},
   "source": [
    "#### Parte 2.2 \n",
    "\n",
    "A continuación se calcula el cepstrum complejo del tren de pulsos periódico $p[n]$ usando la DFT. \n",
    "\n",
    "Analice el código y responda las siguientes preguntas. \n",
    "\n",
    "1. El cepstrum complejo $\\hat{p}[n]$ es un tren de pulsos periódico ¿Cuál es su período?\n",
    "2. El cepstrum complejo $\\hat{p}[n]$ presenta un retardo. ¿Es consistente con la expresión analítica?\n",
    "3. El factor de atenuación de $p[n]$ y $\\hat{p}[n]$ es diferente. ¿Cuál es esa diferencia?"
   ]
  },
  {
   "cell_type": "code",
   "execution_count": null,
   "metadata": {},
   "outputs": [],
   "source": [
    "# DFT of the periodic impulse train\n",
    "# P = \n",
    "# frequency values\n",
    "w = np.fft.fftfreq(N)"
   ]
  },
  {
   "cell_type": "code",
   "execution_count": null,
   "metadata": {},
   "outputs": [],
   "source": [
    "# magnitude \n",
    "# magP = \n",
    "# phase\n",
    "# phaseP = \n",
    "# phase unwraped\n",
    "# phaseP_unw1 = \n",
    "\n",
    "# === elimination of the linear phase component\n",
    "\n",
    "# index of the phase value at pi\n",
    "ind_pi = int(np.floor((N+1)/2))\n",
    "\n",
    "# compute the linear phase factor\n",
    "r = round(phaseP_unw1[ind_pi]/np.pi)\n",
    "\n",
    "# compute the linear phase component\n",
    "ph_lin_component = r * np.pi * np.arange(N) / ind_pi\n",
    "\n",
    "# substract the linear phase component\n",
    "phaseP_unw2 = phaseP_unw1 - ph_lin_component; \n",
    "\n",
    "# check that phase at 0 and pi frequency is 0\n",
    "assert phaseP_unw2[0] == 0, \"Phase value at zero is not 0\"\n",
    "assert phaseP_unw2[ind_pi] == 0, \"Phase value at pi is not 0\""
   ]
  },
  {
   "cell_type": "code",
   "execution_count": null,
   "metadata": {},
   "outputs": [],
   "source": [
    "# compute the complex logarithm (using magH and phaseH)\n",
    "logP = np.log(magP) + 1j * phaseP_unw2\n",
    "\n",
    "# IDFT\n",
    "hat_p = np.real(np.fft.ifft(logP));"
   ]
  },
  {
   "cell_type": "code",
   "execution_count": null,
   "metadata": {},
   "outputs": [],
   "source": [
    "# amplitude envelope for periodic impulse train and its complex cepstrum\n",
    "n = np.linspace(1, N)\n",
    "b1 = beta**n\n",
    "b2 = T * (beta**n) / n\n",
    "\n",
    "plt.figure(figsize=(12,6))\n",
    "ax1 = plt.subplot(2, 1, 1)\n",
    "ax1.stem(p)\n",
    "ax1.plot(n, b1, '--r')\n",
    "ax1.set_title('Periodic train $p[n]$ and complex cepstrum $\\hat{p}[n]]$')\n",
    "ax1.set_ylabel('Amplitude')\n",
    "ax1.set_xlabel('Time (samples)')\n",
    "ax1.grid()\n",
    "\n",
    "ax2 = plt.subplot(2, 1, 2)\n",
    "ax2.plot(hat_p)\n",
    "ax2.plot(n, b2, '--r')\n",
    "ax2.set_ylabel('Amplitude')\n",
    "ax2.set_xlabel('Quefrency (samples)')\n",
    "ax2.set_ylim([0, 1])\n",
    "ax2.grid();"
   ]
  },
  {
   "cell_type": "code",
   "execution_count": null,
   "metadata": {},
   "outputs": [],
   "source": []
  }
 ],
 "metadata": {
  "kernelspec": {
   "display_name": "Python 3",
   "language": "python",
   "name": "python3"
  },
  "language_info": {
   "codemirror_mode": {
    "name": "ipython",
    "version": 3
   },
   "file_extension": ".py",
   "mimetype": "text/x-python",
   "name": "python",
   "nbconvert_exporter": "python",
   "pygments_lexer": "ipython3",
   "version": "3.8.10"
  }
 },
 "nbformat": 4,
 "nbformat_minor": 2
}
