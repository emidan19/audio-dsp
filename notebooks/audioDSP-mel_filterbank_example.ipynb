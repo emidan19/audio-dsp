{
 "cells": [
  {
   "cell_type": "markdown",
   "metadata": {},
   "source": [
    "# <center> PROCESAMIENTO DIGITAL DE SEÑALES DE AUDIO</center>\n",
    "## <center> Banco de filtros auditivos</center>      "
   ]
  },
  {
   "cell_type": "code",
   "execution_count": null,
   "metadata": {},
   "outputs": [],
   "source": [
    "%matplotlib inline\n",
    "\n",
    "import numpy as np\n",
    "import matplotlib.pyplot as plt\n",
    "\n",
    "from scipy.io import wavfile\n",
    "\n",
    "import IPython.display as ipd"
   ]
  },
  {
   "cell_type": "markdown",
   "metadata": {},
   "source": [
    "**NOTA:** *Las siguientes dos celdas solo son necesarias para descargar el archivo de ejemplo. Ignórelas si va a trabajar con sus propios archivos de audio.*"
   ]
  },
  {
   "cell_type": "code",
   "execution_count": null,
   "metadata": {},
   "outputs": [],
   "source": [
    "!pip install wget"
   ]
  },
  {
   "cell_type": "code",
   "execution_count": null,
   "metadata": {},
   "outputs": [],
   "source": [
    "import wget"
   ]
  },
  {
   "cell_type": "markdown",
   "metadata": {},
   "source": [
    "**NOTA:** *Las siguientes celdas instalan e importan la biblioteca [librosa](https://librosa.org/) para procesamiento de audio y música en python.*"
   ]
  },
  {
   "cell_type": "code",
   "execution_count": null,
   "metadata": {},
   "outputs": [],
   "source": [
    "!pip install librosa"
   ]
  },
  {
   "cell_type": "code",
   "execution_count": null,
   "metadata": {},
   "outputs": [],
   "source": [
    "import librosa\n",
    "import librosa.display"
   ]
  },
  {
   "cell_type": "code",
   "execution_count": null,
   "metadata": {},
   "outputs": [],
   "source": [
    "librosa.__version__"
   ]
  },
  {
   "cell_type": "markdown",
   "metadata": {},
   "source": [
    "### Descripción\n",
    "\n",
    "Este ejercicio busca estudiar bancos de filtros usados simular la **selectividad en frecuencia del sistema auditivo**, en particular su **distribución no lineal** y su **ancho de banda variable**. Este tipo de banco de filtros se utilizan frecuentemente como una primera etapa en tareas de procesamiento de audio y permiten construir una representación adecuada de la señal de audio.\n",
    "\n",
    "La tarea planteada consiste en estudiar el **banco de filtros en escala mel** implementado en la biblioteca [librosa](https://librosa.org/), analizando sus parámetros y su función en el diseño. Luego se aplica el banco de filtros diseñado para filtrar una señal de audio y se analiza el efecto del valor de los parámetros en la representación espectral obtenida."
   ]
  },
  {
   "cell_type": "markdown",
   "metadata": {},
   "source": [
    "### Cómo correr el notebook\n",
    "Se puede bajar y correr el notebook de forma local en una computadora.\n",
    "\n",
    "O también se puede correr en Google Colab usando el siguiente enlace. \n",
    "\n",
    "<table align=\"center\">\n",
    "  <td>\n",
    "    <a target=\"_blank\" href=\"https://colab.research.google.com/github/mrocamora/audio-dsp/blob/main/notebooks/audioDSP-mel_filterbank_example.ipynb\"><img src=\"https://www.tensorflow.org/images/colab_logo_32px.png\" />Run in Google Colab</a>\n",
    "  </td>\n",
    "</table>"
   ]
  },
  {
   "cell_type": "markdown",
   "metadata": {},
   "source": [
    "### Obtener un archivo"
   ]
  },
  {
   "cell_type": "markdown",
   "metadata": {},
   "source": [
    "La siguiente celda descarga un archivo de audio de ejemplo."
   ]
  },
  {
   "cell_type": "code",
   "execution_count": null,
   "metadata": {},
   "outputs": [],
   "source": [
    "# download audio file to use\n",
    "wget.download('https://github.com/mrocamora/audio-dsp/blob/main/audio/superstition.wav?raw=true')"
   ]
  },
  {
   "cell_type": "code",
   "execution_count": null,
   "metadata": {},
   "outputs": [],
   "source": [
    "# read the audio file\n",
    "filename = 'superstition.wav'\n",
    "y, sr = librosa.load(filename)\n",
    "\n",
    "# play audio\n",
    "ipd.Audio(y, rate=sr)"
   ]
  },
  {
   "cell_type": "markdown",
   "metadata": {},
   "source": [
    "La siguiente celda grafica la forma de onda."
   ]
  },
  {
   "cell_type": "code",
   "execution_count": null,
   "metadata": {},
   "outputs": [],
   "source": [
    "# plot audio signal\n",
    "plt.figure(figsize=(12,8))\n",
    "ax1 = plt.subplot(2, 1, 1)\n",
    "librosa.display.waveplot(y, sr=sr)\n",
    "plt.title('audio waveform')\n",
    "plt.tight_layout()"
   ]
  },
  {
   "cell_type": "markdown",
   "metadata": {},
   "source": [
    "### Banco de filtros mel"
   ]
  },
  {
   "cell_type": "markdown",
   "metadata": {},
   "source": [
    "En lo que sigue se diseña un banco de filtros en escala mel usando [librosa](https://librosa.org/). Estudie los parámetros que recibe la función para el diseño del banco de filtros, analice el resultado obtenido y conteste las siguientes preguntas. Puede resultar útil cambiar la cantidad de filtros del banco.\n",
    "\n",
    "  1. ¿Cómo es la distribución de la frecuencia central de los filtros del banco?\n",
    "  2. ¿Qué forma tiene la respuesta en frecuencia de cada filtro?\n",
    "  3. ¿Cómo varía el ancho de banda de los filtros a medida de que crece la frecuencia?\n",
    "  4. ¿En qué regiones de frecuencia el banco de filtros tiene más resolución en frecuencia?\n",
    "  5. ¿Cómo varía la ganancia de los filtros con la frecuencia? ¿A qué tipo de normalización corresponde?"
   ]
  },
  {
   "cell_type": "markdown",
   "metadata": {},
   "source": [
    "El siguiente código define los parámetros del banco de filtros."
   ]
  },
  {
   "cell_type": "code",
   "execution_count": null,
   "metadata": {},
   "outputs": [],
   "source": [
    "# number of DFT points\n",
    "n_fft = 2048\n",
    "\n",
    "# number of mel-frequency bands\n",
    "n_mels = 128\n",
    "\n",
    "# maximum frequency for the analysis\n",
    "fmax = 4000 "
   ]
  },
  {
   "cell_type": "markdown",
   "metadata": {},
   "source": [
    "A continuación se construye el banco de filtros y se representa gráficamente su frecuencia central y la magnitud de la respuesta en frecuencia de cada filtro."
   ]
  },
  {
   "cell_type": "code",
   "execution_count": null,
   "metadata": {},
   "outputs": [],
   "source": [
    "# compute and plot the Mel filter bank\n",
    "melfb = librosa.filters.mel(sr, n_fft, fmax=fmax, n_mels=n_mels)\n",
    "freqs = librosa.fft_frequencies(n_fft=n_fft)\n",
    "\n",
    "plt.figure(figsize=(12, 6))\n",
    "plt.subplot(1, 2, 1)\n",
    "librosa.display.specshow(melfb, x_axis='linear')\n",
    "plt.xlim([0, fmax])\n",
    "plt.ylabel('Mel filter')\n",
    "plt.title('Mel filter bank')\n",
    "plt.subplot(1, 2, 2)\n",
    "plt.plot(freqs, melfb.T)\n",
    "plt.title('Mel filter bank')\n",
    "plt.xlabel('Frequency [Hz]')\n",
    "plt.xlim([0, fmax])\n",
    "plt.tight_layout()"
   ]
  },
  {
   "cell_type": "markdown",
   "metadata": {},
   "source": [
    "### Cálculo de espectrograma mel\n",
    "En la siguiente celda se aplica un banco de filtros mel con las mismas características sobre el espectrograma de la señal de audio, para producir un espectrograma mel. Cambie los parámetros del banco de filtros y compare el espectrograma original y el espectrograma mel. \n",
    "\n",
    "En particular considere lo siguiente.\n",
    "\n",
    "  1. ¿Cómo es la resolución en frecuencias del espectrograma original?\n",
    "  2. ¿En qué rango de frecuencias el espectrograma mel tiene más resolución?"
   ]
  },
  {
   "cell_type": "code",
   "execution_count": null,
   "metadata": {},
   "outputs": [],
   "source": [
    "# 1. Compute spectrogam from STFT\n",
    "Y = librosa.stft(y, win_length=1024, hop_length=512, n_fft=n_fft, window='hann')\n",
    "S = np.abs(Y)**2\n",
    "\n",
    "# 2. apply mel-filterbank to combine FFT bins into Mel-frequency bins\n",
    "# compute mel-spectrogram\n",
    "M = librosa.feature.melspectrogram(S=S, n_mels=n_mels, fmax=fmax)\n",
    "\n",
    "# 3. apply log to convert power to dB\n",
    "M_log = librosa.power_to_db(M)"
   ]
  },
  {
   "cell_type": "code",
   "execution_count": null,
   "metadata": {},
   "outputs": [],
   "source": [
    "# plot spectrogram and mel-spectrogram\n",
    "ind_max = np.argmax(freqs > fmax)\n",
    "plt.figure(figsize=(12, 8))\n",
    "plt.subplot(2, 1, 1)\n",
    "#librosa.display.specshow(librosa.power_to_db(S[:ind_max, :]), y_coords=freqs[:ind_max], y_axis='linear')\n",
    "librosa.display.specshow(librosa.power_to_db(S), y_coords=freqs, y_axis='linear')\n",
    "ax=plt.gca()\n",
    "ax.set_ylim([0, fmax])\n",
    "plt.title('spectrogram')\n",
    "plt.subplot(2, 1, 2)\n",
    "librosa.display.specshow(M_log, x_axis='time', y_axis='mel', sr=sr, fmax=fmax)\n",
    "plt.title('mel-spectrogram')\n",
    "plt.tight_layout()"
   ]
  }
 ],
 "metadata": {
  "kernelspec": {
   "display_name": "Python 3",
   "language": "python",
   "name": "python3"
  },
  "language_info": {
   "codemirror_mode": {
    "name": "ipython",
    "version": 3
   },
   "file_extension": ".py",
   "mimetype": "text/x-python",
   "name": "python",
   "nbconvert_exporter": "python",
   "pygments_lexer": "ipython3",
   "version": "3.8.10"
  }
 },
 "nbformat": 4,
 "nbformat_minor": 2
}
