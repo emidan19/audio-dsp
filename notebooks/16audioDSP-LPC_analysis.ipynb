{
 "cells": [
  {
   "cell_type": "markdown",
   "metadata": {},
   "source": [
    "# <center> PROCESAMIENTO DIGITAL DE SEÑALES DE AUDIO</center>\n",
    "## <center> Análisis por Predicción Lineal</center>      "
   ]
  },
  {
   "cell_type": "code",
   "execution_count": null,
   "metadata": {},
   "outputs": [],
   "source": [
    "%matplotlib inline\n",
    "\n",
    "import numpy as np\n",
    "import matplotlib.pyplot as plt\n",
    "\n",
    "from scipy import signal\n",
    "from scipy.io import wavfile\n",
    "\n",
    "from scipy.linalg import toeplitz\n",
    "from scipy.linalg import solve\n",
    "\n",
    "import IPython.display as ipd"
   ]
  },
  {
   "cell_type": "markdown",
   "metadata": {},
   "source": [
    "**NOTA:** *Las siguientes dos celdas solo son necesarias para descargar el archivo de ejemplo. Ignórelas si va a trabajar con sus propios archivos de audio.*"
   ]
  },
  {
   "cell_type": "code",
   "execution_count": null,
   "metadata": {},
   "outputs": [],
   "source": [
    "!pip install wget"
   ]
  },
  {
   "cell_type": "code",
   "execution_count": null,
   "metadata": {},
   "outputs": [],
   "source": [
    "import wget"
   ]
  },
  {
   "cell_type": "markdown",
   "metadata": {},
   "source": [
    "### Cómo correr el notebook\n",
    "Se puede bajar y correr el notebook de forma local en una computadora.\n",
    "\n",
    "O también se puede correr en Google Colab usando el siguiente enlace. \n",
    "\n",
    "<table align=\"center\">\n",
    "  <td>\n",
    "    <a target=\"_blank\" href=\"https://colab.research.google.com/github/mrocamora/audio-dsp/blob/main/notebooks/audioDSP-LPC_analysis.ipynb\"><img src=\"https://www.tensorflow.org/images/colab_logo_32px.png\" />Run in Google Colab</a>\n",
    "  </td>\n",
    "</table>"
   ]
  },
  {
   "cell_type": "markdown",
   "metadata": {},
   "source": [
    "### Descripción\n",
    "\n",
    "Este ejercicio sirve de introducción al **análisis por predicción lineal**. Se implementa análisis por el método de **autocorrelación**. Se calculan los coeficientes del modelo, el error y la ganancia.\n",
    "\n",
    "El análisis LPC extrae los parámetros del modelo de producción de voz a partir del análisis de un fragmento de tiempo corto de la señal de voz. Se plantea un modelo todo polos de la forma,\n",
    "\n",
    "$$ H(z) = \\frac{S(z)}{U(z)} = \\frac{G}{1-\\sum_{k=1}^{p}a_kz^{-k}}$$\n",
    "$$ s[n] = \\sum_{k=1}^{p}a_k s[n-k]+Gu[n]. $$\n",
    "\n",
    "Se define un predictor de orden $p$ a partir de las muestras pasadas de la salida,\n",
    "\n",
    "$$\\tilde{s}[n] = \\sum_{k=1}^{p}\\alpha_k s[n-k].$$\n",
    "\n",
    "La solución consiste en obtener los coeficientes que minimizan el error cuadrático de predicción para un fragmento de tiempo corto de la señal de voz $s_n[m]$ elegido en torno a la muestra $n$, i.e. $s_n[m]=s[m+n]$. \n",
    "\n",
    "$$ \\begin{align}\\label{eq:mean_square_error}\n",
    "\t\t E_n &= \\sum_m e_n^2[m]\\nonumber\\\\\n",
    "\t\t     &= \\sum_m\\left(s_n[m]-\\tilde{s}_n[m]\\right)^2\\nonumber\\\\\n",
    "\t\t     &= \\sum_m\\left(s_n[m]-\\sum_{k=1}^{p}\\alpha_k s_n[m-k]\\right)^2\n",
    "\t\t\\end{align}      \n",
    "$$\n",
    "El análisis es de tiempo corto, por lo que el rango de la sumatoria es finito. Hay dos enfoques para resolver el problema que difieren en la elección de los límites de la sumatoria, el método de la **autocorrelación** y el método de la **covarianza**.\n",
    "\n",
    "A continuación se carga la señal de audio que será procesada."
   ]
  },
  {
   "cell_type": "code",
   "execution_count": null,
   "metadata": {},
   "outputs": [],
   "source": [
    "# download impulse responses as audio files\n",
    "wget.download('https://github.com/mrocamora/audio-dsp/blob/main/audio/voice2.wav?raw=true')"
   ]
  },
  {
   "cell_type": "code",
   "execution_count": null,
   "metadata": {},
   "outputs": [],
   "source": [
    "# read the audio file\n",
    "filename = 'voice2.wav'\n",
    "\n",
    "# read audio samples using scipy.io.wavfile\n",
    "fs, x = wavfile.read(filename)\n",
    "\n",
    "# normalize maximum (absolute) amplitude\n",
    "x = x / np.max(abs(x)) * 0.9"
   ]
  },
  {
   "cell_type": "code",
   "execution_count": null,
   "metadata": {},
   "outputs": [],
   "source": [
    "# time corresponding to the audio signal\n",
    "time_x = np.arange(0, x.size)/fs\n",
    "\n",
    "# plot the audio signal waveform\n",
    "plt.figure(figsize=(12,6))\n",
    "ax1 = plt.subplot(2, 1, 1)\n",
    "plt.plot(time_x, x)\n",
    "plt.xlabel('Time (s)')\n",
    "plt.ylabel('Amplitude')\n",
    "plt.tight_layout()"
   ]
  },
  {
   "cell_type": "code",
   "execution_count": null,
   "metadata": {},
   "outputs": [],
   "source": [
    "ipd.Audio(x, rate=fs)"
   ]
  },
  {
   "cell_type": "markdown",
   "metadata": {},
   "source": [
    "### Parte 1\n",
    "\n",
    "En esta primera parte se extraer un frame de la señal de audio y se aplica una ventana suavizante. \n",
    "\n",
    "Luego de ejecutar el código responda las siguientes preguntas. \n",
    "\n",
    "1. ¿En el método de la autocorrelación que se asume sobre la señal fuera del intervalo de análisis?\n",
    "2. ¿Qué efecto tiene este supuesto en la estimación LPC en los bordes de la trama de señal?\n",
    "3. ¿Cuál es el objetivo de aplicar una ventana suavizante?\n"
   ]
  },
  {
   "cell_type": "code",
   "execution_count": null,
   "metadata": {},
   "outputs": [],
   "source": [
    "# number of samples in window\n",
    "N = 460\n",
    "\n",
    "# initial sample of the audio frame\n",
    "ind_ini = 94567\n",
    "\n",
    "# signal frame\n",
    "s = x[ind_ini:ind_ini+N]\n",
    "\n",
    "# smoothing window\n",
    "window = signal.windows.get_window('hann', N)\n",
    "\n",
    "# windowed signal frame\n",
    "s_win = s * window\n",
    "\n",
    "# number of DFT points\n",
    "Ndft = 1024\n",
    "\n",
    "# spectrum of the signal frame\n",
    "X = np.fft.fft(s_win, Ndft)\n",
    "# frequency values\n",
    "f = np.fft.fftfreq(Ndft) * fs"
   ]
  },
  {
   "cell_type": "code",
   "execution_count": null,
   "metadata": {},
   "outputs": [],
   "source": [
    "# plot the original signal frame\n",
    "plt.figure(figsize=(12,6))\n",
    "ax1 = plt.subplot(3, 1, 1)\n",
    "plt.plot(s, 'k')\n",
    "plt.ylabel('Amplitude')\n",
    "plt.title('Signal frame')\n",
    "\n",
    "# plot the smoothing window\n",
    "ax2 = plt.subplot(3, 1, 2)\n",
    "plt.plot(window, 'r')\n",
    "plt.xlabel('Time (samples)')\n",
    "plt.ylabel('Amplitude')\n",
    "plt.title('Smoothing window')\n",
    "\n",
    "# plot the windowed frame\n",
    "ax3 = plt.subplot(3, 1, 3)\n",
    "plt.plot(s_win, 'k')\n",
    "plt.xlabel('Time (samples)')\n",
    "plt.ylabel('Amplitude')\n",
    "plt.title('Windowed signal frame')\n",
    "plt.tight_layout()\n",
    "\n",
    "# magnitude spectrum\n",
    "magX = np.abs(X)\n",
    "ind_fmx = int(Ndft/2)\n",
    "\n",
    "# plot the frequency response\n",
    "plt.figure(figsize=(12,6))\n",
    "ax1 = plt.subplot()\n",
    "ax1.set_title('Signal frame spectrum')\n",
    "ax1.plot(f[:ind_fmx], 20 * np.log10(magX[:ind_fmx]), 'k')\n",
    "ax1.set_ylabel('Magnitude (dB)')\n",
    "ax1.set_xlabel('Frequency (Hz)')\n",
    "plt.tight_layout()\n"
   ]
  },
  {
   "cell_type": "markdown",
   "metadata": {},
   "source": [
    "### Parte 2\n",
    "\n",
    "El siguiente código implementa el **análisis LPC** usando el método de la **autocorrelación**. \n",
    "\n",
    "Tenga en cuenta que el sistema de ecuaciones expresado en forma matricial es el siguiente.\n",
    "\n",
    "\n",
    "$$\n",
    "\t\t\\left( \\begin{array}{ccccc}\n",
    "\t\tR_n[0] & R_n[1] & R_n[2] & \\cdots & R_n[p-1]\\\\\n",
    "\t\tR_n[1] & R_n[0] & R_n[1] & \\cdots & R_n[p-2]\\\\\n",
    "\t\tR_n[2] & R_n[1] & R_n[0] & \\cdots & R_n[p-3]\\\\\n",
    "\t\t\\vdots & \\vdots & \\vdots & \\ddots & \\vdots\\\\\n",
    "\t\tR_n[p-1] & R_n[p-2] & R_n[p-3] & \\cdots & R_n[0]\\\\\n",
    "\t\t\\end{array} \\right) \\left( \\begin{array}{c}\n",
    "\t\t\\alpha_1\\\\\n",
    "\t\t\\alpha_2\\\\\n",
    "\t\t\\alpha_3\\\\\n",
    "\t\t\\vdots\\\\\n",
    "\t\t\\alpha_p\\\\\n",
    "\t\t\\end{array} \\right) = \\left( \\begin{array}{c}\n",
    "\t\tR_n[1]\\\\\n",
    "\t\tR_n[2]\\\\\n",
    "\t\tR_n[3]\\\\\n",
    "\t\t\\vdots\\\\\n",
    "\t\tR_n[p]\\\\\n",
    "\t\t\\end{array} \\right)\n",
    "$$\n",
    "\n",
    "Y que el error cuadrático medio mínimo es:\n",
    "  \n",
    "$$E_n = R_n[0]-\\sum_{k=1}^p\\alpha_kR_n[k].$$\n",
    "\n",
    "\n",
    "Complete el código que se proporciona a continuación. Para ello, siga los siguientes pasos. \n",
    "\n",
    "1. Calcular los valores de la autocorrelación que intervienen en el sistema de ecuaciones.\n",
    "2. Plantear y resolver el sistema de ecuaciones, teniendo en cuenta que hay que invertir una matriz Toeplitz.\n",
    "3. Calcular el valor mínimo del error cuadrático medio.\n"
   ]
  },
  {
   "cell_type": "code",
   "execution_count": null,
   "metadata": {},
   "outputs": [],
   "source": [
    "def lpc_analysis(s, p=20):\n",
    "    \"\"\" compute the LPC analysis using the autocorrelation method\n",
    "    \n",
    "    Parameters\n",
    "    ----------\n",
    "    x : numpy array\n",
    "        windowed signal frame as a numpy 1D array.\n",
    "    p : int\n",
    "        model order.\n",
    "        \n",
    "    Returns\n",
    "    -------\n",
    "    ak : numpy array\n",
    "         model coefficients.\n",
    "    e : float\n",
    "        minimum mean squared error.\n",
    "    e_norm : float\n",
    "             normalized minimum mean squared error.\n",
    "    \"\"\"\n",
    "    # frame length\n",
    "    N = s.shape[0]\n",
    "    \n",
    "    # compute autocorrelation values\n",
    "    r = np.zeros((p+1, 1))\n",
    "    for k in range(p+1):\n",
    "        # r[k] = np.dot(s[??:??].T, s[??:??])\n",
    "\n",
    "    # solve to compute model coefficients\n",
    "    # ak = solve(toeplitz(r[??:??]), r[??:??]).squeeze()\n",
    "\n",
    "    # compute mean squared error\n",
    "    # e = ??\n",
    "\n",
    "    # compute normalized mean squared error\n",
    "    e_norm = e / r[0]\n",
    "\n",
    "    return ak, e, e_norm"
   ]
  },
  {
   "cell_type": "markdown",
   "metadata": {},
   "source": [
    "### Parte 3\n",
    "\n",
    "Una vez completada la implementación de la función `lpc_analysis` siga los siguientes pasos para calcular la respuesta en frecuencia y la respuesta al impulso del sistema.\n",
    "\n",
    "Tenga presente la forma de la función de transferencia del sistema\n",
    "\n",
    "$$H(z) = \\frac{S(z)}{U(z)} = \\frac{G}{1-\\sum_{k=1}^{p}\\alpha_kz^{-k}}.$$\n",
    "      \n",
    "1. Ejecute la función `lpc_analysis` para la trama de audio. \n",
    "2. Calcule los polinomios numerador y denominador del filtro resultante.\n",
    "3. Calcule la ganancia G a partir del error cuadrático medio.\n",
    "4. Calcule la prespuesta al impulso filtrando una delta con el filtro resultante.\n",
    "5. Cambie el orden del modelo y analice el resultado obtenido."
   ]
  },
  {
   "cell_type": "code",
   "execution_count": null,
   "metadata": {},
   "outputs": [],
   "source": [
    "# model order\n",
    "p = 26\n",
    "\n",
    "# apply lpc analysis to signal frame\n",
    "ak, e, e_norm = lpc_analysis(s_win, p)\n",
    "\n",
    "# filter obtained from the lpc analysis\n",
    "# S = ??\n",
    "U = np.concatenate([[1], -ak])\n",
    "\n",
    "# compute gain \n",
    "# G = ??\n",
    "\n",
    "# compute the frequency response of the digital filter\n",
    "w, H = signal.freqz(G*S, U, worN=Ndft, whole=True)\n",
    "fw = w / (2 * np.pi) * fs\n",
    "\n",
    "# impulse response of the LPC filter\n",
    "delta = np.zeros(N)\n",
    "delta[0] = 1\n",
    "h = signal.lfilter(G*S, U, delta)"
   ]
  },
  {
   "cell_type": "code",
   "execution_count": null,
   "metadata": {},
   "outputs": [],
   "source": [
    "# magnitude spectrum\n",
    "magH = np.abs(H)\n",
    "ind_fmx = int(Ndft/2)\n",
    "\n",
    "# plot the frequency response\n",
    "plt.figure(figsize=(12,6))\n",
    "ax1 = plt.subplot()\n",
    "ax1.set_title('Signal frame spectrum and frequency response of LPC filter')\n",
    "ax1.plot(f[:ind_fmx], 20 * np.log10(magX[:ind_fmx]), 'k')\n",
    "ax1.plot(f[:ind_fmx], 20 * np.log10(magH[:ind_fmx]), 'r')\n",
    "ax1.set_ylabel('Magnitude (dB)')\n",
    "ax1.set_xlabel('Frequency (Hz)')\n",
    "plt.tight_layout()\n",
    "\n",
    "# plot the impulse response\n",
    "plt.figure(figsize=(12,6))\n",
    "ax1 = plt.subplot(2, 1, 1)\n",
    "ax1.plot(h, 'k')\n",
    "ax1.set_title('Impulse response of LPC filter')\n",
    "ax1.set_ylabel('Amplitude')\n",
    "ax1.set_xlabel('Time (samples)')\n",
    "plt.tight_layout()\n"
   ]
  },
  {
   "cell_type": "markdown",
   "metadata": {},
   "source": [
    "### Parte 4\n",
    "\n",
    "A continuación se calcula la excitación $e[n] = G u[n]$ filtrando la señal de voz $s[n]$ con el filtro inverso. \n",
    "\n",
    "Tenga presente la relación entre la función de transferencia del sistema\n",
    "\n",
    "$$H(z) = \\frac{S(z)}{U(z)} = \\frac{G}{1-\\sum_{k=1}^{p}\\alpha_kz^{-k}}$$\n",
    "\n",
    "y el filtro inverso\n",
    "\t\n",
    "$$A(z) = \\frac{E(z)}{S(z)} = 1-\\sum_{k=1}^{p}\\alpha_kz^{-k}.$$\n",
    "\n",
    "Complete el código que se proporciona a continuación. Para ello, siga los siguientes pasos.\n",
    "\n",
    "1. Calcule los polinomios numerador y denominador del filtro inverso.\n",
    "2. Utilice adecuadamente la ganancia calculada anteriormente. \n",
    "3. Aplique el filtro a la señal de voz para obtener la excitación."
   ]
  },
  {
   "cell_type": "code",
   "execution_count": null,
   "metadata": {},
   "outputs": [],
   "source": [
    "# inverse filter\n",
    "# A = ??\n",
    "# B = ??\n",
    "\n",
    "# compute the excitation from the inverse filter\n",
    "p = signal.lfilter(B, A, s_win)\n",
    "\n",
    "# compute the spectrum of the excitation\n",
    "P = np.fft.fft(p, Ndft)\n"
   ]
  },
  {
   "cell_type": "code",
   "execution_count": null,
   "metadata": {},
   "outputs": [],
   "source": [
    "# magnitude spectrum\n",
    "magP = np.abs(P)\n",
    "ind_fmx = int(Ndft/2)\n",
    "\n",
    "plt.figure(figsize=(12,6))\n",
    "ax1 = plt.subplot(2, 1, 1)\n",
    "plt.plot(s_win, 'k')\n",
    "plt.xlabel('Time (samples)')\n",
    "plt.ylabel('Amplitude')\n",
    "plt.title('Windowed signal frame')\n",
    "plt.tight_layout()\n",
    "ax2 = plt.subplot(2, 1, 2)\n",
    "plt.plot(p, 'k')\n",
    "ax2.set_title('Inverse LPC filter applied to the signal frame')\n",
    "ax2.set_ylabel('Amplitude')\n",
    "ax2.set_xlabel('Time (samples)')\n",
    "plt.tight_layout()\n",
    "\n",
    "\n",
    "# plot the frequency response\n",
    "plt.figure(figsize=(12,6))\n",
    "ax1 = plt.subplot()\n",
    "ax1.set_title('Spectrum of the signal frame and the estimated excitation')\n",
    "ax1.plot(f[:ind_fmx], 20 * np.log10(magX[:ind_fmx]), 'k')\n",
    "ax1.plot(f[:ind_fmx], 20 * np.log10(magP[:ind_fmx]), 'r')\n",
    "ax1.set_ylabel('Magnitude (dB)')\n",
    "ax1.set_xlabel('Frequency (Hz)')\n",
    "plt.tight_layout()\n"
   ]
  },
  {
   "cell_type": "code",
   "execution_count": null,
   "metadata": {},
   "outputs": [],
   "source": []
  }
 ],
 "metadata": {
  "kernelspec": {
   "display_name": "Python 3",
   "language": "python",
   "name": "python3"
  },
  "language_info": {
   "codemirror_mode": {
    "name": "ipython",
    "version": 3
   },
   "file_extension": ".py",
   "mimetype": "text/x-python",
   "name": "python",
   "nbconvert_exporter": "python",
   "pygments_lexer": "ipython3",
   "version": "3.8.10"
  }
 },
 "nbformat": 4,
 "nbformat_minor": 2
}
