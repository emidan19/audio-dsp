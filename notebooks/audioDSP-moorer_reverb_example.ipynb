{
 "cells": [
  {
   "cell_type": "markdown",
   "metadata": {},
   "source": [
    "# <center> PROCESAMIENTO DIGITAL DE SEÑALES DE AUDIO</center>\n",
    "## <center> Reverberador con filtros digitales</center>      "
   ]
  },
  {
   "cell_type": "code",
   "execution_count": null,
   "metadata": {},
   "outputs": [],
   "source": [
    "%matplotlib inline\n",
    "\n",
    "import math\n",
    "import numpy as np\n",
    "import matplotlib.pyplot as plt\n",
    "\n",
    "from scipy import signal\n",
    "from scipy.io import wavfile\n",
    "\n",
    "import IPython.display as ipd"
   ]
  },
  {
   "cell_type": "markdown",
   "metadata": {},
   "source": [
    "**NOTA:** *Las siguientes dos celdas solo son necesarias para descargar el archivo de ejemplo. Ignórelas si va a trabajar con sus propios archivos de audio.*"
   ]
  },
  {
   "cell_type": "code",
   "execution_count": null,
   "metadata": {},
   "outputs": [],
   "source": [
    "!pip install wget"
   ]
  },
  {
   "cell_type": "code",
   "execution_count": null,
   "metadata": {},
   "outputs": [],
   "source": [
    "import wget"
   ]
  },
  {
   "cell_type": "markdown",
   "metadata": {},
   "source": [
    "### Descripción\n",
    "\n",
    "Este ejercicio sirve para estudiar una estructura de filtros digitales para construir un **reverberador** del tipo propuesto por [Moorer], tal como se describe en el libro de [Steiglitz].\n",
    "\n",
    "La idea de la estrcutura se representa en el siguiente diagrama. Consiste en seis filtros peine en paralelo, cada uno con sus diferentes parámetros, que modelan las reflexiones en el recinto. El camino directo con ganancia K representa la onda directa. El filtro pasa-todos se incluye para la *difusión* de las reflexiones. Los filtros peine se refinan incluyendo un filtro pasabajos (IIR de primer orden) en el bucle, que modela la absorción del sonido, las frecuencias mas altas se absorben mas rápidamente.\n",
    "\n",
    "![alt text](moorer.png \"Moorer reverb\")\n",
    "\n",
    "\n",
    ".. [Moorer] Moorer, J. A. (1979). *About this reverberation business*. Computer Music Journal, 3(2):13–28.\n",
    "\n",
    ".. [Steiglitz] Steiglitz, K. (1996). *Digital Signal Processing Primer: With Applications to Digital Audio and Computer Music.* Prentice Hall.\n"
   ]
  },
  {
   "cell_type": "markdown",
   "metadata": {},
   "source": [
    "### Cómo correr el notebook\n",
    "Se puede bajar y correr el notebook de forma local en una computadora.\n",
    "\n",
    "O también se puede correr en Google Colab usando el siguiente enlace. \n",
    "\n",
    "<table align=\"center\">\n",
    "  <td>\n",
    "    <a target=\"_blank\" href=\"https://colab.research.google.com/github/mrocamora/audio-dsp/blob/main/notebooks/audioDSP-moorer_reverb_example.ipynb\"><img src=\"https://www.tensorflow.org/images/colab_logo_32px.png\" />Run in Google Colab</a>\n",
    "  </td>\n",
    "</table>"
   ]
  },
  {
   "cell_type": "markdown",
   "metadata": {},
   "source": [
    "### Filtro peine\n",
    "\n",
    "La siguiente función implementa un filtro peine, siguiendo el esquema que se presenta a continuación. Estudie el código y responda las siguientes preguntas.\n",
    "\n",
    "![alt text](echo.png \"Echo diagram\")\n",
    "\n",
    "1. ¿Cómo describiría a este filtro peine? ¿Qué tipo de realimentación tiene?\n",
    "2. ¿Cómo es su respuesta al impulso? ¿Y su respuesta en frecuencia?\n",
    "3. ¿Cómo modificaría este filtro para agregar un pasabajos en cada iteración?"
   ]
  },
  {
   "cell_type": "code",
   "execution_count": null,
   "metadata": {},
   "outputs": [],
   "source": [
    "def comb_filter(x, L, R):\n",
    "    \"\"\"\n",
    "    comb filter   \n",
    "\n",
    "    Parameters\n",
    "    ----------\n",
    "    x (numpy array)   : input audio waveform\n",
    "    L (int)           : delay length in samples\n",
    "    R (float)         : dumping factor\n",
    "\n",
    "    Returns\n",
    "    -------\n",
    "    y (numpy array) : filtered audio waveform\n",
    "    \n",
    "    \"\"\"\n",
    "    # signal length\n",
    "    N = x.size\n",
    "    # output signal\n",
    "    y = np.copy(x)\n",
    "    # force L to be integer\n",
    "    L = int(L)\n",
    "    \n",
    "    # compute ouput from filter equation\n",
    "    for n in range(L,N):\n",
    "        y[n] = x[n] + R**L * y[n-L]\n",
    "        \n",
    "    return y"
   ]
  },
  {
   "cell_type": "markdown",
   "metadata": {},
   "source": [
    "### Reverberador\n",
    "\n",
    "Complete el código de la siguiente función que implementa el reverberador, usando los filtros definidos anteriormente (por el momento no implemente el filtro pasa-todos)."
   ]
  },
  {
   "cell_type": "code",
   "execution_count": null,
   "metadata": {},
   "outputs": [],
   "source": [
    "def moorer_reverb(x, fs, t0=0.05, K=1.2, delays=[0.050, 0.056, 0.061, 0.068, 0.072, 0.078], rt60=1.5):\n",
    "    \"\"\"\n",
    "    moorer reverb\n",
    "\n",
    "    Parameters\n",
    "    ----------\n",
    "    x (numpy array)     : input audio waveform\n",
    "    fs (int)            : sampling frequency in Hz\n",
    "    t0 (float)          : pre-delay in seconds\n",
    "    delays (list float) : delay line lengths (of comb filters) in seconds\n",
    "    res_bw (float)      : reverberation time at zero-frequency (e.g., 1.5)\n",
    "\n",
    "    Returns\n",
    "    -------\n",
    "    y (numpy array) : filtered audio waveform\n",
    "\n",
    "    \"\"\"\n",
    "    # delays as numpy array\n",
    "    ds = np.array(delays)\n",
    "    # pre-delay in samples\n",
    "    L0 = round(t0 * fs)\n",
    "    # comb filter delays in samples\n",
    "    Ls = np.round(ds * fs)\n",
    "    # comb filter gains    \n",
    "    Rs = 10**((-3.0*ds)/(rt60*fs))\n",
    "    \n",
    "    # pre-delay\n",
    "    w0 = np.append(np.zeros(L0), x)\n",
    "    x_out = np.append(x, np.zeros(L0))\n",
    "    ws = np.zeros(w0.shape)\n",
    "    \n",
    "    # comb filters\n",
    "    for ind in range(len(delays)): \n",
    "        # apply comb filter\n",
    "        # w =\n",
    "        \n",
    "        # sum comb filter output\n",
    "        # ws = \n",
    "        \n",
    "\n",
    "    # all-pass filter delay\n",
    "    L_ap = np.round(0.005 * fs)\n",
    "    # all-pass filter gain\n",
    "    g_ap5 = 0.7\n",
    "        \n",
    "    # allpass filter\n",
    "    # ap = allpass(...)\n",
    "    \n",
    "    # produce output\n",
    "    # y = \n",
    "\n",
    "    return y"
   ]
  },
  {
   "cell_type": "markdown",
   "metadata": {},
   "source": [
    "### Prueba del reverberador\n",
    "\n",
    "Pruebe el resultado del reverberador con una señal de audio de ejemplo. Ejecute el código y analice lo siguiente. \n",
    "\n",
    "1. ¿Se logra simular el efecto de reverberación? \n",
    "2. ¿Cuál es el efecto de cambiar la ganancia K?\n",
    "3. ¿Cómo varía el resultado cambiando el tiempo de reverberación (rt60)?\n",
    "4. Considere una menor cantidad de filtros peine. ¿Cuál es la mínima cantidad de filtros razonable?"
   ]
  },
  {
   "cell_type": "code",
   "execution_count": null,
   "metadata": {},
   "outputs": [],
   "source": [
    "# download audio file to use\n",
    "wget.download('https://github.com/mrocamora/audio-dsp/blob/main/audio/ohwhere.wav?raw=true')"
   ]
  },
  {
   "cell_type": "code",
   "execution_count": null,
   "metadata": {},
   "outputs": [],
   "source": [
    "# load audio file from local path\n",
    "fs, x = wavfile.read('./ohwhere.wav')\n",
    "\n",
    "# play audio\n",
    "ipd.Audio(x, rate=fs)"
   ]
  },
  {
   "cell_type": "code",
   "execution_count": null,
   "metadata": {},
   "outputs": [],
   "source": [
    "y = moorer_reverb(x, fs)"
   ]
  },
  {
   "cell_type": "code",
   "execution_count": null,
   "metadata": {},
   "outputs": [],
   "source": [
    "ipd.Audio(y,rate=fs)"
   ]
  },
  {
   "cell_type": "markdown",
   "metadata": {},
   "source": [
    "### Ejercicio: Filtro pasa-todos\n",
    "\n",
    "Complete la siguiente función que implementa un filtro peine, siguiendo el esquema que se presenta a continuación. Modifique la implementación del filtro para incluir el filtro pasa-todos.\n",
    "\n",
    "![alt text](all-pass.png \"All-pass diagram\")"
   ]
  },
  {
   "cell_type": "code",
   "execution_count": null,
   "metadata": {},
   "outputs": [],
   "source": [
    "def all_pass(x, L, a):\n",
    "    \"\"\"\n",
    "    all-pass filter   \n",
    "\n",
    "    Parameters\n",
    "    ----------\n",
    "    x (numpy array)   : input audio waveform\n",
    "    L (int)           : delay length in samples\n",
    "    R (float)         : dumping factor\n",
    "\n",
    "    Returns\n",
    "    -------\n",
    "    y (numpy array) : filtered audio waveform\n",
    "    \n",
    "    \"\"\"\n",
    "    # signal length\n",
    "    N = x.size\n",
    "    # output signal\n",
    "    y = np.copy(x)\n",
    "    # force L to be integer\n",
    "    L = int(L)\n",
    "    \n",
    "    # compute ouput from filter equation\n",
    "    # ...\n",
    "    # ...\n",
    "        \n",
    "    return y"
   ]
  },
  {
   "cell_type": "markdown",
   "metadata": {},
   "source": [
    "### Ejercicio: Filtro pasa-bajos\n",
    "\n",
    "Para refinar el modelo se utiliza un filtro pasabajos (IIR de primer orden) en el bucle del filtro peine. El filtro pasabajos modela que las frecuencias más altas se absorben más rápidamente. Modifique la implementación del filtro peine para incluir el pasabajos y analice su efecto en el resultado del reverberador."
   ]
  },
  {
   "cell_type": "code",
   "execution_count": null,
   "metadata": {},
   "outputs": [],
   "source": []
  }
 ],
 "metadata": {
  "kernelspec": {
   "display_name": "Python 3",
   "language": "python",
   "name": "python3"
  },
  "language_info": {
   "codemirror_mode": {
    "name": "ipython",
    "version": 3
   },
   "file_extension": ".py",
   "mimetype": "text/x-python",
   "name": "python",
   "nbconvert_exporter": "python",
   "pygments_lexer": "ipython3",
   "version": "3.8.10"
  }
 },
 "nbformat": 4,
 "nbformat_minor": 2
}
