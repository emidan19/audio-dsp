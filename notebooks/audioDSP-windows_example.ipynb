{
 "cells": [
  {
   "cell_type": "markdown",
   "metadata": {},
   "source": [
    "# <center> PROCESAMIENTO DIGITAL DE SEÑALES DE AUDIO</center>\n",
    "## <center> Ventanas suavizantes</center>      "
   ]
  },
  {
   "cell_type": "code",
   "execution_count": 1,
   "metadata": {},
   "outputs": [],
   "source": [
    "%matplotlib inline\n",
    "\n",
    "import math\n",
    "import numpy as np\n",
    "import matplotlib.pyplot as plt\n",
    "\n",
    "from scipy import signal\n",
    "from scipy.io import wavfile\n",
    "\n",
    "import IPython.display as ipd"
   ]
  },
  {
   "cell_type": "markdown",
   "metadata": {},
   "source": [
    "### Descripción\n",
    "\n",
    "Este ejercicio busca ser una introducción al uso de **ventanas suavizantes**.\n",
    "\n",
    "La tarea planteada consiste en comparar el uso de diferentes **ventanas suavizantes** para análisis de una señal.  "
   ]
  },
  {
   "cell_type": "markdown",
   "metadata": {},
   "source": [
    "### Cómo correr el notebook\n",
    "Se puede bajar y correr el notebook de forma local en una computadora.\n",
    "\n",
    "O también se puede correr en Google Colab usando el siguiente enlace. \n",
    "\n",
    "<table align=\"center\">\n",
    "  <td>\n",
    "    <a target=\"_blank\" href=\"https://colab.research.google.com/github/mrocamora/audio-dsp/blob/main/notebooks/audioDSP-windows_example.ipynb\"><img src=\"https://www.tensorflow.org/images/colab_logo_32px.png\" />Run in Google Colab</a>\n",
    "  </td>\n",
    "</table>"
   ]
  },
  {
   "cell_type": "markdown",
   "metadata": {},
   "source": [
    "### Ventana suavizante"
   ]
  },
  {
   "cell_type": "markdown",
   "metadata": {},
   "source": [
    "La siguiente celda define una ventana suavizante, usando dos largos diferentes. Compare el efecto del largo en la forma de la ventana y compare diferentes tipos de ventanas."
   ]
  },
  {
   "cell_type": "code",
   "execution_count": 10,
   "metadata": {},
   "outputs": [],
   "source": [
    "# sampling rate\n",
    "fs = 8000\n",
    "\n",
    "# window length 1\n",
    "N = 128\n",
    "# window length 2\n",
    "N2 = 256\n",
    "\n",
    "# DFT points (for window 1)\n",
    "NFFT = 4*N\n",
    "# DFT points (for window 2)\n",
    "NFFT2 = 4*N2\n",
    "\n",
    "# time instants\n",
    "t = np.linspace(0, N, N, endpoint=False)/fs\n",
    "t2 = np.linspace(0, N2, N2, endpoint=False)/fs\n",
    "\n",
    "# analysis frequency\n",
    "f1 = fs/4\n",
    "\n",
    "# frequency values\n",
    "f  = np.linspace(0, NFFT/2, int(NFFT/2+1))/NFFT\n",
    "f2  = np.linspace(0, NFFT2/2, int(NFFT2/2+1))/NFFT2\n",
    "\n",
    "# analysis window\n",
    "window = signal.windows.get_window('hann', N)\n",
    "\n",
    "# normalization factor\n",
    "norm = 2/sum(window)\n",
    "\n",
    "# sinusoid\n",
    "x = np.sin(2*np.pi*f1*t)\n",
    "\n",
    "Xwin = norm * np.fft.fft(x*window,NFFT)"
   ]
  },
  {
   "cell_type": "code",
   "execution_count": 11,
   "metadata": {},
   "outputs": [
    {
     "data": {
      "text/plain": [
       "Text(0.5, 1.0, 'Analysis window')"
      ]
     },
     "execution_count": 11,
     "metadata": {},
     "output_type": "execute_result"
    },
    {
     "data": {
      "image/png": "[encoded data removed]",
      "text/plain": [
       "<Figure size 864x432 with 1 Axes>"
      ]
     },
     "metadata": {
      "needs_background": "light"
     },
     "output_type": "display_data"
    }
   ],
   "source": [
    "# plot the analysis window\n",
    "plt.figure(figsize=(12,6))\n",
    "ax1 = plt.subplot(2, 1, 1)\n",
    "plt.plot(window, 'r')\n",
    "plt.ylabel('Amplitude')\n",
    "plt.xlabel('Time (samples)')\n",
    "plt.title('Analysis window')"
   ]
  },
  {
   "cell_type": "markdown",
   "metadata": {},
   "source": [
    "### A continuación\n",
    "Realize las tareas propuestas a continuación. \n",
    "\n",
    "  1. Compare el espectro de las diferentes ventanas.\n",
    "  2. Compare el uso de diferentes ventanas para resolver dos componentes cercanos en frecuencia. \n"
   ]
  },
  {
   "cell_type": "code",
   "execution_count": null,
   "metadata": {},
   "outputs": [],
   "source": []
  }
 ],
 "metadata": {
  "kernelspec": {
   "display_name": "Python 3",
   "language": "python",
   "name": "python3"
  },
  "language_info": {
   "codemirror_mode": {
    "name": "ipython",
    "version": 3
   },
   "file_extension": ".py",
   "mimetype": "text/x-python",
   "name": "python",
   "nbconvert_exporter": "python",
   "pygments_lexer": "ipython3",
   "version": "3.9.7"
  }
 },
 "nbformat": 4,
 "nbformat_minor": 2
}
