{
 "cells": [
  {
   "cell_type": "markdown",
   "metadata": {},
   "source": [
    "# <center> PROCESAMIENTO DIGITAL DE SEÑALES DE AUDIO</center>\n",
    "## <center> Complex Cepstrum - Phase unwrap</center>      "
   ]
  },
  {
   "cell_type": "code",
   "execution_count": null,
   "metadata": {},
   "outputs": [],
   "source": [
    "%matplotlib inline\n",
    "\n",
    "import numpy as np\n",
    "import matplotlib.pyplot as plt"
   ]
  },
  {
   "cell_type": "code",
   "execution_count": null,
   "metadata": {},
   "outputs": [],
   "source": [
    "pip install --upgrade scipy"
   ]
  },
  {
   "cell_type": "code",
   "execution_count": null,
   "metadata": {},
   "outputs": [],
   "source": [
    "import scipy\n",
    "scipy.__version__"
   ]
  },
  {
   "cell_type": "code",
   "execution_count": null,
   "metadata": {},
   "outputs": [],
   "source": [
    "from scipy import signal"
   ]
  },
  {
   "cell_type": "markdown",
   "metadata": {},
   "source": [
    "### Introducción\n",
    "\n",
    "#### Descripción\n",
    "\n",
    "En este ejercicio se estudia el desdoblamiento de fase (phase unwrap) de la transformada de Fourier de una señal real. Habitualmente se utiliza el valor principal para calcular el ángulo de un número complejo, entre $\\pm\\pi$. Para el cálculo del cepstrum complejo es necesario tomar el logaritmo del espectro de la señal. Debido a la ambigüedad de la fase, el logaritmo no produce una función continua de la fase y con simertría impar. Por lo tanto, si no se tiene la precaución de desdoblar la fase correctamente (lo que también involucra eliminar un componente lineal), el resultado del cepstrum complejo no es una señal real como debería. \n"
   ]
  },
  {
   "cell_type": "markdown",
   "metadata": {},
   "source": [
    "### Cómo correr el notebook\n",
    "Se puede bajar y correr el notebook de forma local en una computadora.\n",
    "\n",
    "O también se puede correr en Google Colab usando el siguiente enlace. \n",
    "\n",
    "<table align=\"center\">\n",
    "  <td>\n",
    "    <a target=\"_blank\" href=\"https://colab.research.google.com/github/mrocamora/audio-dsp/blob/main/notebooks/audioDSP-phase_unwrap_example.ipynb\"><img src=\"https://www.tensorflow.org/images/colab_logo_32px.png\" />Run in Google Colab</a>\n",
    "  </td>\n",
    "</table>"
   ]
  },
  {
   "cell_type": "markdown",
   "metadata": {},
   "source": [
    "### Parte 1 \n",
    "\n",
    "#### Generación de la señal de trabajo\n",
    "\n",
    "#### Parte 1.1 \n",
    "\n",
    "A continuación se diseña un filtro pasabanda elíptico. Usaremos su respuesta al impulso como señal de trabajo en el ejercicio.\n",
    "\n",
    "Analice el código y responda las siguientes preguntas. \n",
    "\n",
    "1. ¿Por qué se trunca su respuesta al impulso?\n",
    "2. ¿Es un filtro de fase lineal?"
   ]
  },
  {
   "cell_type": "code",
   "execution_count": null,
   "metadata": {},
   "outputs": [],
   "source": [
    "# filter parameters\n",
    "thetac = np.pi/2\n",
    "M = 15\n",
    "# critical frequencies of the transition band (normalized to 0-1)\n",
    "Wn = [thetac/np.pi/3, (3/2)*thetac/np.pi]\n",
    "# frequency response\n",
    "ntheta = 2048\n",
    "theta = np.linspace(0, np.pi, int(ntheta/2+1))\n",
    "\n",
    "# build the elliptic filter and get the coefficients\n",
    "b, a = signal.ellip(4, 0.1, 30, Wn, 'bandstop')\n",
    "\n",
    "# get the impulse response\n",
    "delta = np.zeros(100)\n",
    "delta[0] = 1\n",
    "h = signal.lfilter(b, a, delta)\n",
    "\n",
    "# truncated and windowed impulse response\n",
    "win = signal.windows.hann(2*M)\n",
    "h = h[:M] * win[M:]\n",
    "\n",
    "# compute the frequency response of the digital filter\n",
    "w, H = signal.freqz(h, a=1, worN=ntheta, whole=True)"
   ]
  },
  {
   "cell_type": "markdown",
   "metadata": {},
   "source": [
    "#### Parte 1.2 \n",
    "\n",
    "Analice su respuesta en frecuencia a partir de las gráficas de magnitud y fase. Responda las siguientes preguntas. \n",
    "\n",
    "1. ¿Qué tipo de simetría tiene la respuesta de magnitud? ¿Qué tipo de simetría tiene la respuesta de fase?\n",
    "2. ¿A qué se debe que la respuesta en frecuencia del filtro tenga este tipo de simetría?\n",
    "3. ¿A qué se deben los saltos abruptos entre $\\pm \\pi$ en la respuesta de fase?"
   ]
  },
  {
   "cell_type": "code",
   "execution_count": null,
   "metadata": {},
   "outputs": [],
   "source": [
    "# magnitude response \n",
    "magH = np.abs(H)\n",
    "# phase response\n",
    "phaseH = np.angle(H);\n",
    "\n",
    "# plot the frequency response\n",
    "plt.figure(figsize=(12,6))\n",
    "ax1 = plt.subplot(2, 1, 1)\n",
    "ax1.set_title('Digital filter frequency response')\n",
    "ax1.plot(w, 20 * np.log10(magH), 'b')\n",
    "ax1.set_ylabel('Magnitude (dB)')\n",
    "ax1.set_xlabel('Frequency (rad)')\n",
    "ax1.grid()\n",
    "\n",
    "ax2 = plt.subplot(2, 1, 2)\n",
    "ax2.plot(w, phaseH, 'g')\n",
    "ax2.set_ylabel('Angle (rad)')\n",
    "ax2.set_xlabel('Frequency (rad)')\n",
    "ax2.grid()\n"
   ]
  },
  {
   "cell_type": "markdown",
   "metadata": {},
   "source": [
    "### Parte 2\n",
    "\n",
    "#### Consideraciones sobre el logaritmo complejo\n",
    "\n",
    "El cepstrum complejo puede calcularse empleando la transformada de Fourier de Tiempo Discreto (DTFT),\n",
    "\n",
    "$$\\hat{x}[n]=\\frac{1}{2\\pi}\\int_{-\\pi}^{\\pi}\\log(X(e^{j\\omega}))e^{j\\omega n}d\\omega.$$\n",
    "\n",
    "El cálculo del cepstrum complejo involucra el cálculo del logaritmo de una función compleja, $X(e^{j\\omega})$, lo que corresponde a\n",
    "\n",
    "$$\n",
    "\\begin{align*}\n",
    "\t \\log X(e^{j\\omega}) &= \\log\\left(|X(e^{j\\omega})|e^{j\\angle X(e^{j\\omega})}\\right)\\\\\n",
    "\t   &= \\log\\left(|X(e^{j\\omega})|\\right)+j\\angle X(e^{j\\omega}) \n",
    "\\end{align*}\n",
    "$$\n",
    "\n",
    "Como se observó en la parte anterior, si $x[n]$ es real, $X(e^{j\\omega})$ es una función **hermítica**,\n",
    " - $|X(e^{j\\omega})|$ es par $\\Rightarrow \\operatorname{Re}\\lbrace\\log X(e^{j\\omega})\\rbrace=\\log\\left(|X(e^{j\\omega})|\\right)$ es par\n",
    " - $\\angle X(e^{j\\omega})$ es impar $\\Rightarrow \\operatorname{Im}\\lbrace\\log X(e^{j\\omega})\\rbrace=\\angle X(e^{j\\omega})$ es impar\n",
    " \n",
    "De lo anterior resulta que $\\log X(e^{j\\omega})$ también es **hermítica**. \n",
    "\n",
    "#### Parte 2.1 \n",
    "\n",
    "En base a lo anterior, responda las siguientes preguntas. \n",
    "\n",
    "**2.1.** ¿El cepstrum complejo de una secuencia real es una secuencia real o compleja? ¿Por qué?"
   ]
  },
  {
   "cell_type": "markdown",
   "metadata": {},
   "source": [
    "#### Parte 2.2\n",
    "\n",
    "\n",
    "Para que el sistema característico transforme la convolución en suma, se tiene que cumplir que si $X(e^{j\\omega})=X_1(e^{j\\omega})X_2(e^{j\\omega})$,\n",
    "\t\t \n",
    "$$\\log X(e^{j\\omega})=\\log X_1(e^{j\\omega})X_2(e^{j\\omega})=\\log X_1(e^{j\\omega})+ \\log X_2(e^{j\\omega})$$.\n",
    "\t\t \n",
    "Equivalentemente, se tiene que cumplir que\n",
    "$$ \\begin{align*}\n",
    "\t\\log|X_1(e^{j\\omega})X_2(e^{j\\omega})| &= \\log|X_1(e^{j\\omega})|+ \\log|X_2(e^{j\\omega})|\\\\\n",
    "\t\\angle X_1(e^{j\\omega})X_2(e^{j\\omega}) &= \\angle X_1(e^{j\\omega}) + \\angle X_2(e^{j\\omega}). \n",
    "\t\\end{align*}\n",
    "$$\n",
    "\n",
    "En base a lo anterior, responda las siguientes preguntas. \n",
    "\n",
    "**2.2.** ¿Qué dificultades puede plantear la ambigüedad de fase que se analizó en la parte **1.2**?"
   ]
  },
  {
   "cell_type": "markdown",
   "metadata": {},
   "source": [
    "### Parte 3\n",
    "\n",
    "#### Desdoblamiento de fase\n",
    "\n",
    "La igualdad en la ecuación de la fase de la parte anterior no necesariamente se cumple dada la ambigüedad en la fase de un número complejo, \n",
    "\n",
    "$$\\angle X(e^{j\\omega}) = \\textrm{PV}\\left(\\angle X(e^{j\\omega})\\right)+2k\\pi,\\;\\;\\;\\forall k\\in\\mathbb{N},$$\n",
    "\n",
    "con $\\textrm{PV}\\left(\\angle X(e^{j\\omega})\\right)\\in[-\\pi,\\pi].$\n",
    "\n",
    "La solución es forzar continuidad en la fase de $X(e^{j\\omega})$ (desdoblamiento de fase), es decir, elegir  $k(\\omega)\\in \\mathbb{N}$ tal que \n",
    "$$\\angle X(e^{j\\omega}) = \\textrm{PV}\\left(\\angle X(e^{j\\omega})\\right)+2k(\\omega)\\pi$$\n",
    "sea contínua, y de ese modo se cumpla que $\\angle X_1(e^{j\\omega})X_2(e^{j\\omega}) = \\angle X_1(e^{j\\omega}) + \\angle X_2(e^{j\\omega}).$\n",
    "\n",
    "#### Parte 3.1\n",
    "\n",
    "Complete el siguiente código para calcular el desdoblamiento de fase (usando una función de `numpy`)."
   ]
  },
  {
   "cell_type": "code",
   "execution_count": null,
   "metadata": {},
   "outputs": [],
   "source": [
    "# phase response\n",
    "phaseH = np.angle(H)\n",
    "# phase unwraped\n",
    "# phaseH_unw1 = \n",
    "\n",
    "# plot the frequency response\n",
    "plt.figure(figsize=(12,6))\n",
    "ax1 = plt.subplot(2, 1, 1)\n",
    "ax1.set_title('Phase response (before and after unwrapping)')\n",
    "ax1.plot(w, phaseH, 'g')\n",
    "ax1.set_ylabel('Angle (rad)')\n",
    "ax1.set_xlabel('Frequency (rad)')\n",
    "ax1.grid()\n",
    "\n",
    "ax2 = plt.subplot(2, 1, 2)\n",
    "ax2.plot(w, phaseH_unw1, 'g')\n",
    "ax2.set_ylabel('Angle (rad)')\n",
    "ax2.set_xlabel('Frequency (rad)')\n",
    "ax2.grid()\n"
   ]
  },
  {
   "cell_type": "markdown",
   "metadata": {},
   "source": [
    "### Parte 4\n",
    "\n",
    "#### Eliminación de componente lineal\n",
    "\n",
    "Aún tenemos un problema por resolver. \n",
    "\n",
    "Si $x[n]$ es real, \n",
    " - $\\log X(e^{j\\omega})$ debe ser una función hermítica:\n",
    "     - $\\log |X(e^{j\\omega})|$ par: lo es por ser $|X(e^{j\\omega})|$ par\n",
    "     - $\\angle X(e^{j\\omega})$ impar: puede no serlo por el desdoblamiento de fase\n",
    " - $\\log |X(e^{j0})|$ y $\\log |X(e^{j\\pi})|$ reales\n",
    "     - $\\angle X(e^{j0})=\\angle X(e^{j\\pi})=0$: puede no ser asi por el desdoblamiento de fase\n",
    "\n",
    "La solución es eliminar un componente lineal de la fase:\n",
    "    $$ \\angle X(e^{j\\omega}) - r\\omega,\\;\\;\\textrm{con }r=\\frac{\\angle X(e^{j\\pi})}{\\pi}\\in\\mathbb{N}$$\n",
    "    \n",
    "Es importante nota que la eliminación de componente lineal corresponde a\n",
    "$$x[n-r] \\overset{\\mathcal{F}}{\\longleftrightarrow}X(e^{j\\omega})e^{-j\\omega r}$$\n",
    "por lo que se está calculando el cepstrum de $x[n-r]$ y no de $x[n]$.\n",
    "\n",
    "#### Parte 4.1\n",
    "\n",
    "Complete el siguiente código para eliminar el componente lineal en el procedimiento de desdoblamiento de fase."
   ]
  },
  {
   "cell_type": "code",
   "execution_count": null,
   "metadata": {},
   "outputs": [],
   "source": [
    "# phase response\n",
    "phaseH = np.angle(H)\n",
    "# phase unwraped\n",
    "# phaseH_unw1 = \n",
    "\n",
    "# === elimination of the linear phase component\n",
    "\n",
    "# index of the phase value at pi\n",
    "ind_pi = int(np.floor((ntheta+1)/2))\n",
    "\n",
    "# compute the linear phase factor\n",
    "r = round(phaseH_unw1[ind_pi]/np.pi)\n",
    "\n",
    "# compute the linear phase component\n",
    "ph_lin_component = r * np.pi * np.arange(ntheta) / ind_pi\n",
    "\n",
    "# substract the linear phase component\n",
    "phaseH_unw2 = phaseH_unw1 - ph_lin_component; \n",
    "\n",
    "# check that phase at 0 and pi frequency is 0\n",
    "assert phaseH_unw2[0] == 0, \"Phase value at zero is not 0\"\n",
    "assert phaseH_unw2[ind_pi] == 0, \"Phase value at pi is not 0\"\n",
    "\n",
    "# plot the frequency response\n",
    "plt.figure(figsize=(12,6))\n",
    "ax1 = plt.subplot(2, 1, 1)\n",
    "ax1.set_title('Phase response (before and after eliminating linear phase component)')\n",
    "ax1.plot(w, phaseH_unw1, 'g')\n",
    "ax1.set_ylabel('Angle (rad)')\n",
    "ax1.set_xlabel('Frequency (rad)')\n",
    "ax1.grid()\n",
    "\n",
    "ax2 = plt.subplot(2, 1, 2)\n",
    "ax2.plot(w, phaseH_unw2, 'g')\n",
    "ax2.set_ylabel('Angle (rad)')\n",
    "ax2.set_xlabel('Frequency (rad)')\n",
    "ax2.grid()\n"
   ]
  },
  {
   "cell_type": "code",
   "execution_count": null,
   "metadata": {},
   "outputs": [],
   "source": []
  }
 ],
 "metadata": {
  "kernelspec": {
   "display_name": "Python 3",
   "language": "python",
   "name": "python3"
  },
  "language_info": {
   "codemirror_mode": {
    "name": "ipython",
    "version": 3
   },
   "file_extension": ".py",
   "mimetype": "text/x-python",
   "name": "python",
   "nbconvert_exporter": "python",
   "pygments_lexer": "ipython3",
   "version": "3.8.10"
  }
 },
 "nbformat": 4,
 "nbformat_minor": 2
}
