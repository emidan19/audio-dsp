{
 "cells": [
  {
   "cell_type": "markdown",
   "metadata": {},
   "source": [
    "# <center> PROCESAMIENTO DIGITAL DE SEÑALES DE AUDIO</center>\n",
    "## <center> Transformada Q Constante</center>      "
   ]
  },
  {
   "cell_type": "code",
   "execution_count": null,
   "metadata": {},
   "outputs": [],
   "source": [
    "%matplotlib inline\n",
    "\n",
    "import numpy as np\n",
    "import matplotlib.pyplot as plt\n",
    "\n",
    "from scipy.io import wavfile\n",
    "\n",
    "import IPython.display as ipd"
   ]
  },
  {
   "cell_type": "markdown",
   "metadata": {},
   "source": [
    "**NOTA:** *Las siguientes celdas instalan e importan la biblioteca [librosa](https://librosa.org/) para procesamiento de audio y música en python.*"
   ]
  },
  {
   "cell_type": "code",
   "execution_count": null,
   "metadata": {},
   "outputs": [],
   "source": [
    "!pip install librosa"
   ]
  },
  {
   "cell_type": "code",
   "execution_count": null,
   "metadata": {},
   "outputs": [],
   "source": [
    "import librosa\n",
    "import librosa.display"
   ]
  },
  {
   "cell_type": "code",
   "execution_count": null,
   "metadata": {},
   "outputs": [],
   "source": [
    "librosa.__version__"
   ]
  },
  {
   "cell_type": "markdown",
   "metadata": {},
   "source": [
    "### Descripción\n",
    "\n",
    "Este ejercicio busca estudiar una **representación tiempo-frecuencia multi-resolución** basada en la **Transformada Q constante (CQT)**. \n",
    "\n",
    "La tarea planteada consiste en estudiar el **banco de filtros Q constante** implementado en la biblioteca [librosa](https://librosa.org/), analizando sus parámetros y las características de los filtros. Luego se calcula el espectrograma basado en la STFT y el espectrograma basado la CQT para una señal de ejemplo y se comparan ambas representaciones tiempo-frecuencia."
   ]
  },
  {
   "cell_type": "markdown",
   "metadata": {},
   "source": [
    "### Cómo correr el notebook\n",
    "Se puede bajar y correr el notebook de forma local en una computadora.\n",
    "\n",
    "O también se puede correr en Google Colab usando el siguiente enlace. \n",
    "\n",
    "<table align=\"center\">\n",
    "  <td>\n",
    "    <a target=\"_blank\" href=\"https://colab.research.google.com/github/mrocamora/audio-dsp/blob/main/notebooks/audioDSP-CQT_example.ipynb\"><img src=\"https://www.tensorflow.org/images/colab_logo_32px.png\" />Run in Google Colab</a>\n",
    "  </td>\n",
    "</table>"
   ]
  },
  {
   "cell_type": "markdown",
   "metadata": {},
   "source": [
    "### Obtener un archivo"
   ]
  },
  {
   "cell_type": "markdown",
   "metadata": {},
   "source": [
    "La siguiente celda descarga un archivo de audio de ejemplo."
   ]
  },
  {
   "cell_type": "code",
   "execution_count": null,
   "metadata": {},
   "outputs": [],
   "source": [
    "# read the audio file\n",
    "y, sr = librosa.load(librosa.ex('trumpet'))\n",
    "\n",
    "# play audio\n",
    "ipd.Audio(y, rate=sr)"
   ]
  },
  {
   "cell_type": "markdown",
   "metadata": {},
   "source": [
    "La siguiente celda grafica la forma de onda."
   ]
  },
  {
   "cell_type": "code",
   "execution_count": null,
   "metadata": {},
   "outputs": [],
   "source": [
    "# plot audio signal\n",
    "plt.figure(figsize=(12,8))\n",
    "ax1 = plt.subplot(2, 1, 1)\n",
    "librosa.display.waveplot(y, sr=sr)\n",
    "plt.title('audio waveform')\n",
    "plt.tight_layout()"
   ]
  },
  {
   "cell_type": "markdown",
   "metadata": {},
   "source": [
    "### Banco de filtros Q constante"
   ]
  },
  {
   "cell_type": "markdown",
   "metadata": {},
   "source": [
    "En lo que sigue se diseña un banco de filtros Q constante usando [librosa](https://librosa.org/). Estudie los parámetros que recibe la función para el diseño del banco de filtros, analice el resultado obtenido y conteste las siguientes preguntas.\n",
    "\n",
    "  1. ¿Cómo son los filtros en el dominio del tiempo (kernels temporales)? ¿Qué tipo de ventana se utiliza?\n",
    "  2. ¿Cómo varía el soporte (largo efectivo) de los filtros en el domino del tiempo?\n",
    "  3. ¿Cómo es la distribución de la frecuencia central de los filtros del banco?\n",
    "  4. ¿Qué forma tiene la respuesta en frecuencia de cada filtro?\n",
    "  5. ¿Cómo varía el ancho de banda de los filtros a medida de que crece la frecuencia?\n",
    "  6. ¿En qué regiones de frecuencia el banco de filtros tiene más resolución en frecuencia?"
   ]
  },
  {
   "cell_type": "markdown",
   "metadata": {},
   "source": [
    "A continuación se construye el banco de filtros y se representan gráficamente algunos de los filtros en el dominio del tiempo así como su frecuencia central y la magnitud de la respuesta en frecuencia de cada filtro."
   ]
  },
  {
   "cell_type": "code",
   "execution_count": null,
   "metadata": {},
   "outputs": [],
   "source": [
    "# compute and plot the constant Q filter bank\n",
    "\n",
    "basis, lengths = librosa.filters.constant_q(sr=22050)\n",
    "\n",
    "fig, ax = plt.subplots(nrows=2, figsize=(12, 8))\n",
    "notes = librosa.midi_to_note(np.arange(24, 24 + len(basis)))\n",
    "\n",
    "for i, (f, n) in enumerate(zip(basis, notes[:12])):\n",
    "    f_scale = librosa.util.normalize(f) / 2\n",
    "    ax[0].plot(i + f_scale.real)\n",
    "    ax[0].plot(i + f_scale.imag, linestyle=':')\n",
    "\n",
    "ax[0].set(yticks=np.arange(len(notes[:12])), yticklabels=notes[:12],\n",
    "          ylabel='CQ filters',\n",
    "          title='CQ filters (one octave, time domain)',\n",
    "          xlabel='Time (samples at 22050 Hz)')\n",
    "ax[0].legend(['Real', 'Imaginary'])\n",
    "\n",
    "F = np.abs(np.fft.fftn(basis, axes=[-1]))\n",
    "\n",
    "# Keep only the positive frequencies\n",
    "F = F[:, :(1 + F.shape[1] // 2)]\n",
    "\n",
    "librosa.display.specshow(F, x_axis='linear', y_axis='cqt_note', ax=ax[1])\n",
    "\n",
    "ax[1].set(ylabel='CQ filters', title='CQ filter magnitudes (frequency domain)')\n",
    "plt.tight_layout()"
   ]
  },
  {
   "cell_type": "markdown",
   "metadata": {},
   "source": [
    "### Comparación de espectrograma con STFT  con CQT\n",
    "En la siguiente celda se aplica un banco de filtros mel con las mismas características sobre el espectrograma de la señal de audio, para producir un espectrograma mel. Compare el espectrograma original y el espectrograma CQT. \n",
    "\n",
    "En particular considere lo siguiente.\n",
    "\n",
    "  1. ¿Cómo es la distribución de las frecuencias de análisis?\n",
    "  2. ¿Cómo es la resolución en frecuencias en cada caso?\n",
    "  3. Modifique el parámetro `bins_per_octave` para cambiar la resolución en frecuencia.\n",
    "  3. Modifique el parámetro `n_bins` para extender el rango de análisis en frecuencia."
   ]
  },
  {
   "cell_type": "code",
   "execution_count": null,
   "metadata": {},
   "outputs": [],
   "source": [
    "# Compute spectrogam from STFT\n",
    "S = np.abs(librosa.stft(y))\n",
    "\n",
    "# plot spectrogram\n",
    "fig, ax = plt.subplots(figsize=(12, 8))\n",
    "img = librosa.display.specshow(librosa.amplitude_to_db(S, ref=np.max),\n",
    "                              y_axis='linear', x_axis='time', ax=ax)\n",
    "ax.set_title('Power spectrogram')\n",
    "fig.colorbar(img, ax=ax, format=\"%+2.0f dB\")\n",
    "plt.tight_layout()"
   ]
  },
  {
   "cell_type": "code",
   "execution_count": null,
   "metadata": {},
   "outputs": [],
   "source": [
    "# Compute spectrogam from CQT\n",
    "C = np.abs(librosa.cqt(y, sr=sr, n_bins=84, bins_per_octave=12))\n",
    "\n",
    "# plot CQT spectrogram\n",
    "fig, ax = plt.subplots(figsize=(12, 8))\n",
    "img = librosa.display.specshow(librosa.amplitude_to_db(C, ref=np.max),\n",
    "                               sr=sr, x_axis='time', y_axis='cqt_hz', ax=ax)\n",
    "ax.set_title('Constant-Q power spectrum')\n",
    "fig.colorbar(img, ax=ax, format=\"%+2.0f dB\")\n",
    "plt.tight_layout()"
   ]
  },
  {
   "cell_type": "code",
   "execution_count": null,
   "metadata": {},
   "outputs": [],
   "source": []
  }
 ],
 "metadata": {
  "kernelspec": {
   "display_name": "Python 3",
   "language": "python",
   "name": "python3"
  },
  "language_info": {
   "codemirror_mode": {
    "name": "ipython",
    "version": 3
   },
   "file_extension": ".py",
   "mimetype": "text/x-python",
   "name": "python",
   "nbconvert_exporter": "python",
   "pygments_lexer": "ipython3",
   "version": "3.8.10"
  }
 },
 "nbformat": 4,
 "nbformat_minor": 2
}
