{
 "cells": [
  {
   "cell_type": "markdown",
   "metadata": {},
   "source": [
    "# <center> PROCESAMIENTO DIGITAL DE SEÑALES DE AUDIO</center>\n",
    "## <center> Audio Coding</center>      "
   ]
  },
  {
   "cell_type": "code",
   "execution_count": null,
   "metadata": {},
   "outputs": [],
   "source": [
    "%matplotlib inline\n",
    "\n",
    "import os\n",
    "import time\n",
    "import numpy as np\n",
    "from itertools import zip_longest\n",
    "\n",
    "import matplotlib.pyplot as plt\n",
    "\n",
    "from scipy import signal\n",
    "from scipy.io import wavfile\n",
    "\n",
    "import IPython.display as ipd"
   ]
  },
  {
   "cell_type": "code",
   "execution_count": null,
   "metadata": {},
   "outputs": [],
   "source": [
    "pip install sox"
   ]
  },
  {
   "cell_type": "code",
   "execution_count": null,
   "metadata": {},
   "outputs": [],
   "source": [
    "import sox"
   ]
  },
  {
   "cell_type": "markdown",
   "metadata": {},
   "source": [
    "**NOTA:** *Las siguientes dos celdas solo son necesarias para descargar el archivo de ejemplo. Ignórelas si va a trabajar con sus propios archivos de audio.*"
   ]
  },
  {
   "cell_type": "code",
   "execution_count": null,
   "metadata": {},
   "outputs": [],
   "source": [
    "!pip install wget"
   ]
  },
  {
   "cell_type": "code",
   "execution_count": null,
   "metadata": {},
   "outputs": [],
   "source": [
    "import wget"
   ]
  },
  {
   "cell_type": "markdown",
   "metadata": {},
   "source": [
    "### Introducción\n",
    "\n",
    "#### Descripción\n",
    "\n",
    "En este ejercicio se estudia la compresión de audio con y sin pérdidas. \n",
    "\n",
    "En la **compresión sin pérdidas** es posible obtener el original bit a bit. Se aprovecha la redundancia de la señal (e.g. DPCM, entropía). El estado del arte en compresión sin pérdidas permite tasas de entre 2:1 a 4:1. \n",
    "\n",
    "En la **compresión con pérdidas** hay pérdida de información. Se explota la irrelevancia perceptiva a través de modelos psicoacústicos. El estado del arte en compresión con pérdidas permite tasas de entre 10:1 a 25:1.\n",
    "\n"
   ]
  },
  {
   "cell_type": "markdown",
   "metadata": {},
   "source": [
    "### Cómo correr el notebook\n",
    "Se puede bajar y correr el notebook de forma local en una computadora.\n",
    "\n",
    "O también se puede correr en Google Colab usando el siguiente enlace. \n",
    "\n",
    "<table align=\"center\">\n",
    "  <td>\n",
    "    <a target=\"_blank\" href=\"https://colab.research.google.com/github/mrocamora/audio-dsp/blob/main/notebooks/audioDSP-audio_coding_example.ipynb\"><img src=\"https://www.tensorflow.org/images/colab_logo_32px.png\" />Run in Google Colab</a>\n",
    "  </td>\n",
    "</table>"
   ]
  },
  {
   "cell_type": "markdown",
   "metadata": {},
   "source": [
    "#### Funciones auxiliares\n",
    "\n",
    "A continuación se definen dos funciones auxililares para comparar dos archivos de audio: en la primera a través de algunas de sus características (como frecuencia de muestreo, profundida de bit, duración, tamaño en bytes, etc), y en la segunda como una comparación bit a bit."
   ]
  },
  {
   "cell_type": "code",
   "execution_count": null,
   "metadata": {},
   "outputs": [],
   "source": [
    "def compare_audio_files(path1, path2):\n",
    "    \"\"\" compare two audio files by comparing its properties\n",
    "    \n",
    "    Parameters\n",
    "    ----------\n",
    "    path1 : path to file1\n",
    "    path2 : path to file2\n",
    "    \n",
    "    Returns\n",
    "    -------\n",
    "    s : string\n",
    "        a string with the information of each file    \n",
    "    \"\"\"\n",
    "    \n",
    "    # string to return\n",
    "    s = []\n",
    "\n",
    "    # get the type of encoding\n",
    "    s.append('{:30} {}'.format('Encoding 1: ', sox.file_info.encoding(path1)))\n",
    "    s.append('{:30} {}'.format('Encoding 2: ', sox.file_info.encoding(path2)))\n",
    "    \n",
    "    # get the sampling rate\n",
    "    in_srate = sox.file_info.sample_rate(path1)\n",
    "    out_srate = sox.file_info.sample_rate(path2)  \n",
    "    s.append('{:30} {:.1f}'.format('Sample rate 1 (Hz): ', (in_srate)))\n",
    "    s.append('{:30} {:.1f}'.format('Sample rate 2 (Hz): ', (out_srate)))\n",
    "\n",
    "    # get the number of samples\n",
    "    in_samples = sox.file_info.num_samples(path1)\n",
    "    out_samples = sox.file_info.num_samples(path2)\n",
    "\n",
    "    # compute durations\n",
    "    s.append('{:30} {:.6f}'.format('Duration 1 (secs): ', (in_samples / in_srate)))\n",
    "    s.append('{:30} {:.6f}'.format('Duration 2 (secs): ', (out_samples / out_srate)))\n",
    "\n",
    "    # get the file size in bytes\n",
    "    in_size = os.path.getsize(path1)\n",
    "    out_size = os.path.getsize(path2)\n",
    "    s.append('{:30} {:d}'.format('File size 1 (bytes): ', in_size))\n",
    "    s.append('{:30} {:d}'.format('File size 1 (bytes): ', out_size))\n",
    "    \n",
    "    # compute compression ratio\n",
    "    s.append('{:30} {:.3f}'.format('Compression ratio (in/out): ', (in_size/out_size)))\n",
    "\n",
    "    return '\\n'.join(s)"
   ]
  },
  {
   "cell_type": "code",
   "execution_count": null,
   "metadata": {},
   "outputs": [],
   "source": [
    "def compare_binaries(path1, path2):\n",
    "    \"\"\" compare two binary files\n",
    "    \n",
    "    Parameters\n",
    "    ----------\n",
    "    path1 : path to file1\n",
    "    path2 : path to file2\n",
    "    \"\"\"\n",
    "    with open(path1, 'rb') as f1, open(path2, 'rb') as f2:\n",
    "        for line1, line2 in zip_longest(f1, f2, fillvalue=None):\n",
    "            if line1 == line2:\n",
    "                continue\n",
    "            else:\n",
    "                return False\n",
    "        return True"
   ]
  },
  {
   "cell_type": "markdown",
   "metadata": {},
   "source": [
    "### Parte 1\n",
    "\n",
    "En esta primera parte se codifica un archivo de audio `.wav` a un archivo `.flac`.\n",
    "\n",
    "#### Parte 1.1\n",
    "\n",
    "Siga los pasos detallados a continuación y responda las siguientes preguntas. \n",
    "\n",
    "1. Seleccione alguno de los dos archivos de audio disponibles y ejecute el código para codificar.\n",
    "2. ¿Cuál es la tasa de compresión obtenida? ¿Es similar para los distintos archivos de audio?\n"
   ]
  },
  {
   "cell_type": "code",
   "execution_count": null,
   "metadata": {},
   "outputs": [],
   "source": [
    "# download audio files\n",
    "wget.download('https://github.com/mrocamora/audio-dsp/blob/main/audio/singing_voice.wav?raw=true')\n",
    "wget.download('https://github.com/mrocamora/audio-dsp/blob/main/audio/trumpet.wav?raw=true')"
   ]
  },
  {
   "cell_type": "code",
   "execution_count": null,
   "metadata": {},
   "outputs": [],
   "source": [
    "# read the audio file\n",
    "#filename = 'singing_voice'\n",
    "filename = 'trumpet'\n",
    "\n",
    "in_filename = filename + '.wav'\n",
    "out_filename = filename + '.flac'\n",
    "\n",
    "# create transformer\n",
    "tfm = sox.Transformer()"
   ]
  },
  {
   "cell_type": "code",
   "execution_count": null,
   "metadata": {},
   "outputs": [],
   "source": [
    "# read an input file and create an output file\n",
    "t = time.time()\n",
    "tfm.build(in_filename, out_filename)\n",
    "elapsed = time.time() - t\n",
    "\n",
    "print('Elapsed time (s): %.6f' % (elapsed))"
   ]
  },
  {
   "cell_type": "code",
   "execution_count": null,
   "metadata": {},
   "outputs": [],
   "source": [
    "print(compare_audio_files(in_filename, out_filename))"
   ]
  },
  {
   "cell_type": "markdown",
   "metadata": {},
   "source": [
    "#### Parte 1.2\n",
    "\n",
    "En esta parte se estudia si es posible obtener el archivo original a partir del comprimido. \n",
    "\n",
    "Siga los pasos detallados a continuación y responda las siguientes preguntas. \n",
    "\n",
    "1. Complete el código para obtener un archivo `.wav` a partir del archivo comprimido `.flac`.\n",
    "2. Compare los archivos `.wav` original y reconstruído. ¿La compresión es con o sin pérdida?"
   ]
  },
  {
   "cell_type": "code",
   "execution_count": null,
   "metadata": {},
   "outputs": [],
   "source": [
    "# reconstructed `.wav` file from compressed\n",
    "rec_flac_filename = filename + '_rec_flac.wav'\n",
    "\n",
    "# convert flac to wav\n",
    "tfm.build(?, ?)\n",
    "\n",
    "# compare binaries\n",
    "print('Binary files are equal? %s' % (compare_binaries(?, ?)))\n"
   ]
  },
  {
   "cell_type": "markdown",
   "metadata": {},
   "source": [
    "### Parte 2\n",
    "\n",
    "En esta segunfa parte se codifica un archivo de audio `.wav` a un archivo `.ogg`.\n",
    "\n",
    "#### Parte 2.1\n",
    "\n",
    "Siga los pasos detallados a continuación y responda las siguientes preguntas. \n",
    "\n",
    "1. Repita la codificación, pero indicando la salida como `.ogg`.\n",
    "2. Compare el tiempo de ejecución con la compresión a `.flac`. ¿A qué se debe la diferencia? \n",
    "3. ¿Cuál es la tasa de compresión obtenida? ¿Es similar para los distintos archivos de audio?\n"
   ]
  },
  {
   "cell_type": "code",
   "execution_count": null,
   "metadata": {},
   "outputs": [],
   "source": [
    "# output compressed audio file\n",
    "out_filename = filename + '.ogg'\n",
    "\n",
    "# create transformer\n",
    "tfm = sox.Transformer()"
   ]
  },
  {
   "cell_type": "code",
   "execution_count": null,
   "metadata": {},
   "outputs": [],
   "source": [
    "# read an input file and create an output file\n",
    "t = time.time()\n",
    "tfm.build(?, ?)\n",
    "elapsed = time.time() - t\n",
    "\n",
    "print('Elapsed time (s): %.6f' % (elapsed))"
   ]
  },
  {
   "cell_type": "code",
   "execution_count": null,
   "metadata": {},
   "outputs": [],
   "source": [
    "print(compare_audio_files(?, ?))"
   ]
  },
  {
   "cell_type": "markdown",
   "metadata": {},
   "source": [
    "#### Parte 2.2\n",
    "\n",
    "En esta parte se estudia si es posible obtener el archivo original a partir del comprimido. \n",
    "\n",
    "Siga los pasos detallados a continuación y responda las siguientes preguntas. \n",
    "\n",
    "1. Complete el código para obtener un archivo `.wav` a partir del archivo comprimido `.ogg`.\n",
    "2. Compare los archivos `.wav` original y reconstruído. ¿La compresión es con o sin pérdida?"
   ]
  },
  {
   "cell_type": "code",
   "execution_count": null,
   "metadata": {},
   "outputs": [],
   "source": [
    "# reconstructed `.wav` file from compressed\n",
    "rec_ogg_filename = filename + '_rec_ogg.wav'\n",
    "\n",
    "# convert ogg to wav\n",
    "tfm.build(?, ?)\n",
    "\n",
    "# compare binaries\n",
    "print('Binary files are equal? %s' % (compare_binaries(?, ?)))\n"
   ]
  },
  {
   "cell_type": "markdown",
   "metadata": {},
   "source": [
    "#### Parte 2.3\n",
    "\n",
    "En esta parte se estudian las diferencias entre los archivos reconstruídos mediante un espectrograma.\n",
    "\n",
    "Siga los pasos detallados a continuación y responda las siguientes preguntas. \n",
    "\n",
    "1. Ejecute el código para obtener los espectrogramas de la señal original y sus reconstrucciones.\n",
    "2. ¿Qué diferencias observa en los espectrogramas de la reconstrucciones a partir de `.flac` y `.ogg`? \n",
    "3. ¿Es capaz de escuchar diferencias al reproducir los archivos? ¿Por qué?\n"
   ]
  },
  {
   "cell_type": "code",
   "execution_count": null,
   "metadata": {},
   "outputs": [],
   "source": [
    "# get the input audio as a numpy array\n",
    "fs_in, y_in = wavread(in_filename)\n",
    "\n",
    "# get the reconstructed audio from flac\n",
    "fs_flac, y_flac = wavread(rec_flac_filename)\n",
    "\n",
    "# get the reconstructed audio from ogg\n",
    "fs_ogg, y_ogg = wavread(rec_ogg_filename)"
   ]
  },
  {
   "cell_type": "code",
   "execution_count": null,
   "metadata": {},
   "outputs": [],
   "source": [
    "nperseg = 1024\n",
    "noverlap = 256\n",
    "\n",
    "# plot audio signal\n",
    "plt.figure(figsize=(12,6))\n",
    "#ax1 = plt.subplot(2, 1, 1)\n",
    "f, t, S = signal.spectrogram(y_in, fs_in, nperseg=nperseg, noverlap=noverlap, mode='psd', window='hann')\n",
    "plt.pcolormesh(t, f, 20*np.log10(S), cmap='jet')\n",
    "plt.ylabel('Frequency [Hz]')\n",
    "plt.xlabel('Time [sec]')\n",
    "plt.tight_layout()\n",
    "\n",
    "plt.figure(figsize=(12,6))\n",
    "#ax1 = plt.subplot(2, 1, 2)\n",
    "f, t, S = signal.spectrogram(y_flac, fs_flac, nperseg=nperseg, noverlap=noverlap, mode='psd', window='hann')\n",
    "plt.pcolormesh(t, f, 20*np.log10(S), cmap='jet')\n",
    "plt.ylabel('Frequency [Hz]')\n",
    "plt.xlabel('Time [sec]')\n",
    "plt.tight_layout()\n",
    "\n",
    "plt.figure(figsize=(12,6))\n",
    "#ax1 = plt.subplot(2, 1, 2)\n",
    "f, t, S = signal.spectrogram(y_ogg, fs_ogg, nperseg=nperseg, noverlap=noverlap, mode='psd', window='hann')\n",
    "plt.pcolormesh(t, f, 20*np.log10(S), cmap='jet')\n",
    "plt.ylabel('Frequency [Hz]')\n",
    "plt.xlabel('Time [sec]')\n",
    "plt.tight_layout()"
   ]
  },
  {
   "cell_type": "code",
   "execution_count": null,
   "metadata": {},
   "outputs": [],
   "source": [
    "ipd.Audio(y_in, rate=fs_in)"
   ]
  },
  {
   "cell_type": "code",
   "execution_count": null,
   "metadata": {},
   "outputs": [],
   "source": [
    "ipd.Audio(y_flac, rate=fs_flac)"
   ]
  },
  {
   "cell_type": "code",
   "execution_count": null,
   "metadata": {},
   "outputs": [],
   "source": [
    "ipd.Audio(y_ogg, rate=fs_ogg)"
   ]
  }
 ],
 "metadata": {
  "kernelspec": {
   "display_name": "Python 3",
   "language": "python",
   "name": "python3"
  },
  "language_info": {
   "codemirror_mode": {
    "name": "ipython",
    "version": 3
   },
   "file_extension": ".py",
   "mimetype": "text/x-python",
   "name": "python",
   "nbconvert_exporter": "python",
   "pygments_lexer": "ipython3",
   "version": "3.8.10"
  }
 },
 "nbformat": 4,
 "nbformat_minor": 2
}
